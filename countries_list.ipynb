{
 "cells": [
  {
   "cell_type": "code",
   "execution_count": 23,
   "metadata": {
    "ExecuteTime": {
     "end_time": "2020-10-05T13:07:06.573693Z",
     "start_time": "2020-10-05T13:07:06.570940Z"
    }
   },
   "outputs": [],
   "source": [
    "import numpy as np\n",
    "import pandas as pd\n",
    "import matplotlib.pyplot as plt"
   ]
  },
  {
   "cell_type": "markdown",
   "metadata": {},
   "source": [
    "## 2015 Exploratory Analysis"
   ]
  },
  {
   "cell_type": "code",
   "execution_count": 24,
   "metadata": {
    "ExecuteTime": {
     "end_time": "2020-10-05T13:07:09.902744Z",
     "start_time": "2020-10-05T13:07:06.574893Z"
    }
   },
   "outputs": [
    {
     "data": {
      "text/plain": [
       "dict_keys(['title', 'authors', 'affiliations', 'affiliations_index'])"
      ]
     },
     "execution_count": 24,
     "metadata": {},
     "output_type": "execute_result"
    }
   ],
   "source": [
    "# load the data\n",
    "data_2015 = pd.read_json('./data/data-2015-20201005-002340.json')\n",
    "data_2015[2015][0].keys()"
   ]
  },
  {
   "cell_type": "code",
   "execution_count": 25,
   "metadata": {
    "ExecuteTime": {
     "end_time": "2020-10-05T13:07:14.160328Z",
     "start_time": "2020-10-05T13:07:09.903759Z"
    }
   },
   "outputs": [
    {
     "data": {
      "text/html": [
       "<div>\n",
       "<style scoped>\n",
       "    .dataframe tbody tr th:only-of-type {\n",
       "        vertical-align: middle;\n",
       "    }\n",
       "\n",
       "    .dataframe tbody tr th {\n",
       "        vertical-align: top;\n",
       "    }\n",
       "\n",
       "    .dataframe thead th {\n",
       "        text-align: right;\n",
       "    }\n",
       "</style>\n",
       "<table border=\"1\" class=\"dataframe\">\n",
       "  <thead>\n",
       "    <tr style=\"text-align: right;\">\n",
       "      <th></th>\n",
       "      <th>title</th>\n",
       "      <th>authors</th>\n",
       "      <th>affiliations_index</th>\n",
       "      <th>affiliations.institutes</th>\n",
       "      <th>affiliations.cities</th>\n",
       "      <th>affiliations.countries</th>\n",
       "    </tr>\n",
       "  </thead>\n",
       "  <tbody>\n",
       "    <tr>\n",
       "      <th>0</th>\n",
       "      <td>Automatic Segmentation of Renal Compartments i...</td>\n",
       "      <td>[Xin Yang, Hung Le Minh, Tim Cheng, Kyung Hyun...</td>\n",
       "      <td>[[1], [1], [2], [3], [1]]</td>\n",
       "      <td>[Huazhong University of Science and Technology...</td>\n",
       "      <td>[Wuhan, Santa Barbara, Los Angeles]</td>\n",
       "      <td>[China, USA, USA]</td>\n",
       "    </tr>\n",
       "    <tr>\n",
       "      <th>1</th>\n",
       "      <td>Harmonizing Diffusion MRI Data Across Multiple...</td>\n",
       "      <td>[Hengameh Mirzaalian, Amicie de Pierrefeu, Pet...</td>\n",
       "      <td>[[1], [1], [1], [1], [1], [1], [1], [1], [1]]</td>\n",
       "      <td>[Harvard Medical School and Brigham and Women'...</td>\n",
       "      <td>[Boston]</td>\n",
       "      <td>[USA]</td>\n",
       "    </tr>\n",
       "    <tr>\n",
       "      <th>2</th>\n",
       "      <td>Track Filtering via Iterative Correction of TD...</td>\n",
       "      <td>[Dogu Baran Aydogan, Yonggang Shi]</td>\n",
       "      <td>[[1], [1]]</td>\n",
       "      <td>[University of Southern California]</td>\n",
       "      <td>[Los Angeles]</td>\n",
       "      <td>[USA]</td>\n",
       "    </tr>\n",
       "    <tr>\n",
       "      <th>3</th>\n",
       "      <td>Novel Single and Multiple Shell Uniform Sampli...</td>\n",
       "      <td>[Jian Cheng, Dinggang Shen, Pew-Thian Yap, Pet...</td>\n",
       "      <td>[[1], [2], [2], [1]]</td>\n",
       "      <td>[Section on Tissue Biophysics and Biomimetics ...</td>\n",
       "      <td>[Bethesda, Chapel Hill]</td>\n",
       "      <td>[USA, USA]</td>\n",
       "    </tr>\n",
       "    <tr>\n",
       "      <th>4</th>\n",
       "      <td>q-Space Deep Learning for Twelve-Fold Shorter ...</td>\n",
       "      <td>[Vladimir Golkov, Alexey Dosovitskiy, Philipp ...</td>\n",
       "      <td>[[1], [2], [3], [4], [1, 4], [3], [4], [1, 4],...</td>\n",
       "      <td>[Technische Universitat Munchen, University of...</td>\n",
       "      <td>[Garching, Freiburg, Munich, Garching]</td>\n",
       "      <td>[Germany, Germany, Germany, Germany]</td>\n",
       "    </tr>\n",
       "  </tbody>\n",
       "</table>\n",
       "</div>"
      ],
      "text/plain": [
       "                                               title  \\\n",
       "0  Automatic Segmentation of Renal Compartments i...   \n",
       "1  Harmonizing Diffusion MRI Data Across Multiple...   \n",
       "2  Track Filtering via Iterative Correction of TD...   \n",
       "3  Novel Single and Multiple Shell Uniform Sampli...   \n",
       "4  q-Space Deep Learning for Twelve-Fold Shorter ...   \n",
       "\n",
       "                                             authors  \\\n",
       "0  [Xin Yang, Hung Le Minh, Tim Cheng, Kyung Hyun...   \n",
       "1  [Hengameh Mirzaalian, Amicie de Pierrefeu, Pet...   \n",
       "2                 [Dogu Baran Aydogan, Yonggang Shi]   \n",
       "3  [Jian Cheng, Dinggang Shen, Pew-Thian Yap, Pet...   \n",
       "4  [Vladimir Golkov, Alexey Dosovitskiy, Philipp ...   \n",
       "\n",
       "                                  affiliations_index  \\\n",
       "0                          [[1], [1], [2], [3], [1]]   \n",
       "1      [[1], [1], [1], [1], [1], [1], [1], [1], [1]]   \n",
       "2                                         [[1], [1]]   \n",
       "3                               [[1], [2], [2], [1]]   \n",
       "4  [[1], [2], [3], [4], [1, 4], [3], [4], [1, 4],...   \n",
       "\n",
       "                             affiliations.institutes  \\\n",
       "0  [Huazhong University of Science and Technology...   \n",
       "1  [Harvard Medical School and Brigham and Women'...   \n",
       "2                [University of Southern California]   \n",
       "3  [Section on Tissue Biophysics and Biomimetics ...   \n",
       "4  [Technische Universitat Munchen, University of...   \n",
       "\n",
       "                      affiliations.cities  \\\n",
       "0     [Wuhan, Santa Barbara, Los Angeles]   \n",
       "1                                [Boston]   \n",
       "2                           [Los Angeles]   \n",
       "3                 [Bethesda, Chapel Hill]   \n",
       "4  [Garching, Freiburg, Munich, Garching]   \n",
       "\n",
       "                 affiliations.countries  \n",
       "0                     [China, USA, USA]  \n",
       "1                                 [USA]  \n",
       "2                                 [USA]  \n",
       "3                            [USA, USA]  \n",
       "4  [Germany, Germany, Germany, Germany]  "
      ]
     },
     "execution_count": 25,
     "metadata": {},
     "output_type": "execute_result"
    }
   ],
   "source": [
    "# normalize the json data into table format\n",
    "df_2015 = pd.json_normalize(data_2015[2015])\n",
    "df_2015.head()"
   ]
  },
  {
   "cell_type": "code",
   "execution_count": 26,
   "metadata": {
    "ExecuteTime": {
     "end_time": "2020-10-05T13:07:16.007148Z",
     "start_time": "2020-10-05T13:07:14.161844Z"
    }
   },
   "outputs": [],
   "source": [
    "# create a new table with name, institue and country \n",
    "names_2015 = []\n",
    "institutes_2015 = []\n",
    "countries_2015 = []\n",
    "\n",
    "for idx in df_2015.index:\n",
    "    for ix, author in enumerate(df_2015['authors'][idx]):\n",
    "        if df_2015['affiliations_index'][idx][ix]:\n",
    "            for value in df_2015['affiliations_index'][idx][ix]:\n",
    "                names_2015.append(author)\n",
    "                institutes_2015.append(df_2015['affiliations.institutes'][idx][int(value) - 1] + \", \" + df_2015['affiliations.cities'][idx][int(value) - 1])\n",
    "                countries_2015.append(df_2015['affiliations.countries'][idx][int(value) - 1])"
   ]
  },
  {
   "cell_type": "code",
   "execution_count": 27,
   "metadata": {
    "ExecuteTime": {
     "end_time": "2020-10-05T13:07:25.253450Z",
     "start_time": "2020-10-05T13:07:16.008132Z"
    }
   },
   "outputs": [
    {
     "data": {
      "text/html": [
       "<div>\n",
       "<style scoped>\n",
       "    .dataframe tbody tr th:only-of-type {\n",
       "        vertical-align: middle;\n",
       "    }\n",
       "\n",
       "    .dataframe tbody tr th {\n",
       "        vertical-align: top;\n",
       "    }\n",
       "\n",
       "    .dataframe thead th {\n",
       "        text-align: right;\n",
       "    }\n",
       "</style>\n",
       "<table border=\"1\" class=\"dataframe\">\n",
       "  <thead>\n",
       "    <tr style=\"text-align: right;\">\n",
       "      <th></th>\n",
       "      <th>Name</th>\n",
       "      <th>Institutes</th>\n",
       "      <th>Countries</th>\n",
       "    </tr>\n",
       "  </thead>\n",
       "  <tbody>\n",
       "    <tr>\n",
       "      <th>0</th>\n",
       "      <td>Xin Yang</td>\n",
       "      <td>Huazhong University of Science and Technology,...</td>\n",
       "      <td>China</td>\n",
       "    </tr>\n",
       "    <tr>\n",
       "      <th>1</th>\n",
       "      <td>Hung Le Minh</td>\n",
       "      <td>Huazhong University of Science and Technology,...</td>\n",
       "      <td>China</td>\n",
       "    </tr>\n",
       "    <tr>\n",
       "      <th>2</th>\n",
       "      <td>Tim Cheng</td>\n",
       "      <td>University of California, Santa Barbara</td>\n",
       "      <td>USA</td>\n",
       "    </tr>\n",
       "    <tr>\n",
       "      <th>3</th>\n",
       "      <td>Kyung Hyun Sung</td>\n",
       "      <td>University of California, Los Angeles</td>\n",
       "      <td>USA</td>\n",
       "    </tr>\n",
       "    <tr>\n",
       "      <th>4</th>\n",
       "      <td>Wenyu Liu</td>\n",
       "      <td>Huazhong University of Science and Technology,...</td>\n",
       "      <td>China</td>\n",
       "    </tr>\n",
       "  </tbody>\n",
       "</table>\n",
       "</div>"
      ],
      "text/plain": [
       "              Name                                         Institutes  \\\n",
       "0         Xin Yang  Huazhong University of Science and Technology,...   \n",
       "1     Hung Le Minh  Huazhong University of Science and Technology,...   \n",
       "2        Tim Cheng            University of California, Santa Barbara   \n",
       "3  Kyung Hyun Sung              University of California, Los Angeles   \n",
       "4        Wenyu Liu  Huazhong University of Science and Technology,...   \n",
       "\n",
       "  Countries  \n",
       "0     China  \n",
       "1     China  \n",
       "2       USA  \n",
       "3       USA  \n",
       "4     China  "
      ]
     },
     "execution_count": 27,
     "metadata": {},
     "output_type": "execute_result"
    }
   ],
   "source": [
    "list_2015 = list(zip(names_2015, institutes_2015, countries_2015))\n",
    "df_2015_c = pd.DataFrame(list_2015, columns = ['Name', 'Institutes', 'Countries'])\n",
    "df_2015_c.head()"
   ]
  },
  {
   "cell_type": "code",
   "execution_count": 28,
   "metadata": {
    "ExecuteTime": {
     "end_time": "2020-10-05T13:07:25.519879Z",
     "start_time": "2020-10-05T13:07:25.255615Z"
    }
   },
   "outputs": [],
   "source": [
    "df_2015_c['Countries'] = df_2015_c['Countries'].replace(to_replace='U.S.A.', value='United States')\n",
    "df_2015_c['Countries'] = df_2015_c['Countries'].replace(to_replace='USA', value='United States')\n",
    "df_2015_c['Countries'] = df_2015_c['Countries'].replace(to_replace='US', value='United States')\n",
    "df_2015_c['Countries'] = df_2015_c['Countries'].replace(to_replace='U.K.', value='United Kingdom')\n",
    "df_2015_c['Countries'] = df_2015_c['Countries'].replace(to_replace='CA', value='Canada')\n",
    "df_2015_c['Countries'] = df_2015_c['Countries'].replace(to_replace='P. R. China', value='China')\n",
    "df_2015_c['Countries'] = df_2015_c['Countries'].replace(to_replace='UK', value='United Kingdom')\n",
    "df_2015_c['Countries'] = df_2015_c['Countries'].replace(to_replace='The Netherlands', value='Netherlands')\n",
    "df_2015_c['Countries'] = df_2015_c['Countries'].replace(to_replace='South Australia', value='Australia')"
   ]
  },
  {
   "cell_type": "code",
   "execution_count": 29,
   "metadata": {
    "ExecuteTime": {
     "end_time": "2020-10-05T13:07:26.417190Z",
     "start_time": "2020-10-05T13:07:25.521845Z"
    }
   },
   "outputs": [
    {
     "data": {
      "text/plain": [
       "array(['University of North Carolina at Chapel Hill, Chapel Hill',\n",
       "       'The University of North Carolina at Chapel Hill, Chapel Hill',\n",
       "       'Biomedical Research Imaging Center University of North Carolina at Chapel Hill, Chapel Hill',\n",
       "       'University of North Carolina, Chapel Hill',\n",
       "       'Departments of Radiology, Chapel Hill',\n",
       "       'Computer Science, Chapel Hill',\n",
       "       'Stanford University, Chapel Hill',\n",
       "       'UNC at Chapel Hill, Chapel Hill',\n",
       "       'University of North Carolina (UNC) at Chapel Hill, Chapel Hill',\n",
       "       'UNC-Chapel Hill, Chapel Hill'], dtype=object)"
      ]
     },
     "execution_count": 29,
     "metadata": {},
     "output_type": "execute_result"
    }
   ],
   "source": [
    "# Make the university name homogeneous\n",
    "unc_names = pd.unique(df_2015_c[df_2015_c['Institutes'].str.contains(r'Chapel Hill') == True]['Institutes'])\n",
    "unc_names"
   ]
  },
  {
   "cell_type": "code",
   "execution_count": 30,
   "metadata": {
    "ExecuteTime": {
     "end_time": "2020-10-05T13:07:26.703831Z",
     "start_time": "2020-10-05T13:07:26.418324Z"
    }
   },
   "outputs": [],
   "source": [
    "for name in unc_names:\n",
    "    df_2015_c['Institutes'] = df_2015_c['Institutes'].replace(to_replace=name, value='University of North Carolina, Chapel Hill')"
   ]
  },
  {
   "cell_type": "code",
   "execution_count": 31,
   "metadata": {
    "ExecuteTime": {
     "end_time": "2020-10-05T13:07:27.057444Z",
     "start_time": "2020-10-05T13:07:26.704840Z"
    }
   },
   "outputs": [
    {
     "name": "stdout",
     "output_type": "stream",
     "text": [
      "Number of unique universitites:  392\n",
      "Number of unique countries:  35\n"
     ]
    }
   ],
   "source": [
    "print(\"Number of unique universitites: \", len(pd.unique(df_2015_c['Institutes'])))\n",
    "print(\"Number of unique countries: \", len(pd.unique(df_2015_c['Countries'])))"
   ]
  },
  {
   "cell_type": "code",
   "execution_count": 32,
   "metadata": {
    "ExecuteTime": {
     "end_time": "2020-10-05T13:07:29.872951Z",
     "start_time": "2020-10-05T13:07:27.058813Z"
    }
   },
   "outputs": [
    {
     "data": {
      "text/plain": [
       "array(['China', 'United States', 'Germany', 'Japan', 'Sweden', 'Canada',\n",
       "       'New Zealand', 'France', 'Netherlands', 'United Kingdom', 'Brazil',\n",
       "       'India', 'Belgium', 'Italy', 'Switzerland', 'Turkey', 'Australia',\n",
       "       'Romania', 'Hong Kong', 'Denmark', 'Republic of Korea', 'Colombia',\n",
       "       'Slovenia', 'Singapore', 'Austria', 'Israel', 'Luxembourg',\n",
       "       'Spain', 'Argentina', 'Czech Republic', 'Finland', 'Norway',\n",
       "       'South Korea', 'Greece', 'Portugal'], dtype=object)"
      ]
     },
     "execution_count": 32,
     "metadata": {},
     "output_type": "execute_result"
    }
   ],
   "source": [
    "pd.unique(df_2015_c['Countries'])"
   ]
  },
  {
   "cell_type": "code",
   "execution_count": 33,
   "metadata": {
    "ExecuteTime": {
     "end_time": "2020-10-05T13:07:42.414561Z",
     "start_time": "2020-10-05T13:07:29.874694Z"
    }
   },
   "outputs": [
    {
     "data": {
      "text/plain": [
       "['2nd Department of Internal Medicine of General University Hospital in Prague and Charles University, Prague',\n",
       " 'A*STAR, Singapore',\n",
       " 'A. Trousseau Hospital APHP, Paris',\n",
       " 'AIIMS, Delhi',\n",
       " \"ALCoV-ISIT, UMR 6284 CNRS/Universite d'Auvergne, Clermont-Ferrand\",\n",
       " 'Aalto University, Aalto',\n",
       " 'Academic Medical Center Amsterdam, Amsterdam',\n",
       " 'Adobe Research, San Jose',\n",
       " 'Advanced Osteotomy Tools AG, Basel',\n",
       " 'Aix-Marseille Universite, Marseille',\n",
       " 'Analytics University of Pennsylvania, Philadelphia',\n",
       " 'Arizona State University, Scottsdale',\n",
       " 'Arizona State University, Tempe',\n",
       " 'Asclepios Project, INRIA, Sophia Antipolis',\n",
       " 'Athena, Inria Sophia Antipolis - Mediterranee, Sophia Antipolis',\n",
       " 'BG Trauma Center, Ludwigshafen am Rhein, Ludwigshafen',\n",
       " 'Basque Center on Cognition, Brain and Language (BCBL), San Sebastian',\n",
       " 'Beijing Institute of Petrochemical Technology, Beijing',\n",
       " 'Ben-Gurion University of the Negev, Beer Sheva',\n",
       " 'Bogazici University, Bogazici',\n",
       " \"Boston Children's Hospital, Boston\",\n",
       " \"Boston Children's Hospital, Harvard Medical School, Boston\",\n",
       " 'Boston University, Boston',\n",
       " \"Brigham and Women's Hospital, Harvard Medical School, Boston\",\n",
       " 'Broad Institute of MIT and Harvard, Cambridge',\n",
       " 'CARE Hospital, Hyderabad',\n",
       " 'CEA, DSV, I2BM, Gif-Sur-Yvette',\n",
       " 'CEA, DSV, I2BM, Orsay',\n",
       " 'CEA/DSV/I2BM/NeuroSpin, Gif-sur-Yvette',\n",
       " 'CHUV and University of Lausanne, Lausanne',\n",
       " 'CIC-IT 1433, Inserm, Nancy',\n",
       " 'CNRS LTCI, Paris',\n",
       " \"CRL - Boston Children's Hospital, Harvard Medical School, Boston\",\n",
       " \"CRL, Children's Hospital Boston, Harvard Medical School, Boston\",\n",
       " 'CSAIL, MIT, Cambridge',\n",
       " 'CSIRO Digital Productivity Flagship, Sydney',\n",
       " 'Cardiac Modelling Project, Oslo',\n",
       " 'Cardiology, Loyola University, Maywood',\n",
       " 'Carl Zeiss AG, Oberkochen',\n",
       " 'Carl Zeiss Meditec AG, Munchen',\n",
       " 'Case Western Reserve University, Cleveland',\n",
       " 'Cedars-Sinai Medical, Los Angeles',\n",
       " 'Center for Visual Information Technology, International Institute of Information Technology, Hyderabad',\n",
       " 'Centre Henri-Becquerel, Rouen',\n",
       " 'Centre Hospitalier de Luxembourg, Luxembourg City',\n",
       " 'Centre for Cardiological Innovation, Lysaker',\n",
       " 'Centre for Medical Image Computing, UCL, London',\n",
       " 'Centre for Medical Imaging, UCL, London',\n",
       " 'Centro Nacional de Investigaciones Cardiovasculares Carlos III (CNIC), Madrid',\n",
       " 'Chiba University, Chiba',\n",
       " \"Children's National Medical Center, Washington D.C\",\n",
       " 'Chinese Academy of Sciences, Shenzhen',\n",
       " 'Chinese University of Hong Kong, Hong Kong',\n",
       " 'Churchill Hospital, Oxford University Hospitals NHS Trust, Oxford',\n",
       " 'City University of Hong Kong, Hong Kong',\n",
       " 'Comision Nacional de Investigaciones Cientificas y Tecnicas, Pladema - CONICET, UNICEN, Tandil, Aires',\n",
       " 'Concord Repatriation General Hospital, Sydney',\n",
       " 'Cornell University, New York',\n",
       " 'Crick Institute, London',\n",
       " 'Dalhousie Unviersity, Halifax',\n",
       " 'Delft University of Technology, Delft',\n",
       " 'Dementia Research Centre, London',\n",
       " 'Department of Urological Sciences, Vancouver',\n",
       " 'Doheny Eye Institute, Los Angeles',\n",
       " 'Duke University, Durham',\n",
       " \"EGA UCL Institute for Women's Health, London\",\n",
       " 'EOS Imaging, Paris',\n",
       " 'ETH Zurich, Zurich',\n",
       " 'Ecole Centrale de Paris, Paris',\n",
       " 'Ecole Polytechnique Federale de Lausanne (EPFL), Lausanne',\n",
       " 'Emory University, Atlanta',\n",
       " 'Erasmus MC University Medical Center, Rotterdam',\n",
       " 'Erasmus MC, Rotterdam',\n",
       " 'FAU Erlangen-Nurnberg, Erlangen',\n",
       " 'FRAMOS GmbH, Taufkirchen',\n",
       " 'Florida International University, Miami',\n",
       " 'Friedrich-Alexander-Universitat Erlangen-Nurnberg, Erlangen',\n",
       " 'Friedrich-Alexander-Universitat, Erlangen-Nurnberg',\n",
       " 'Friedrich-Alexander-University Erlangen-Nuremberg, Erlangen',\n",
       " 'GE Global Research Center, Garching',\n",
       " 'GE Global Research, Bangalore',\n",
       " 'GE Global Research, Garching',\n",
       " 'GE Global Research, Niskayuna',\n",
       " 'GE Healthcare, London',\n",
       " 'GE Healthcare, Salt Lake City',\n",
       " 'GE Healthcare, Waukesha',\n",
       " 'Geneva University Hospitals, Geneva',\n",
       " 'George Washington Univ., Washington, DC',\n",
       " 'Georgia Institute of Technology, Atlanta',\n",
       " 'Graduate School in Advanced Optical Technologies (SAOT), Erlangen',\n",
       " 'Graz University of Technology, Graz',\n",
       " 'Guangdong Key Laboratory for Biomedical Measurements and Ultrasound Imaging, Shenzhen',\n",
       " 'H. Mondor Hospital APHP, Creteil',\n",
       " 'HHMI Janelia Research Campus, Ashburn',\n",
       " 'Hanover Medical University, Hanover',\n",
       " 'Harbin Institute of Technology, Harbin',\n",
       " \"Harvard Medical School and Brigham and Women's Hospital, Boston\",\n",
       " 'Harvard Medical School, Boston',\n",
       " 'Heidelberg University, HCI/IWR, Heidelberg',\n",
       " 'Heidelberg University, Heidelberg',\n",
       " 'Helmholtz Zentrum Munchen, Munchen',\n",
       " 'Hiroshima City University, Hiroshima',\n",
       " 'Hong Kong Baptist University, Kowloon Tong',\n",
       " 'Hospital Merheim, Cologne Medical Center, Cologne',\n",
       " 'Houston Methodist Hospital, Houston',\n",
       " 'Houston Methodist Research Institute, Houston',\n",
       " 'Huazhong University of Science and Technology, Wuhan',\n",
       " 'IBM Almaden Research Center, San Jose',\n",
       " 'IBM Research, Haifa',\n",
       " 'ICube, University of Strasbourg, CNRS, Federation de Medecine Translationnelle de Strasbourg (FMTS), Strasbourg',\n",
       " 'ICube, University of Strasbourg, CNRS, IHU, Strasbourg',\n",
       " 'IIIT-Delhi, Delhi',\n",
       " 'IMT Institute for Advanced Studies Lucca, Lucca',\n",
       " 'INRIA Mediterranee, Asclepios Project, Sophia Antipolis',\n",
       " 'INRIA Sophia Antipolis, Valbonne',\n",
       " 'INRIA Sophia-Antipolis, Asclepios Team, Sophia-Antipolis',\n",
       " 'INRIA, Univ. Grenoble Alpes, LJK, Grenoble',\n",
       " 'INRIA/CEA Parietal team, NeuroSpin, Gif-sur-Yvette',\n",
       " 'INSERM, U836, Grenoble',\n",
       " 'INSERM, UMR1106, Marseille',\n",
       " 'ISR, Lisboa',\n",
       " 'ImFusion GmbH, Munchen',\n",
       " 'Imperial College Healthcare NHS Trust, London',\n",
       " 'Imperial College London, London',\n",
       " 'Imperial College of Science, Technology and Medicine, London',\n",
       " 'Indian Institute of Technology (IIT) Bombay, Bombay',\n",
       " 'Indian Statistical Institute, Kolkata',\n",
       " 'Indiana University School of Medicine, Indianapolis',\n",
       " 'Inria Asclepios Project-Team, Sophia Antipolis',\n",
       " 'Inria Nancy Grand Est, Villers-les-Nancy',\n",
       " 'Inria Parietal, Neurospin, CEA Saclay, Gif-sur-Yvette',\n",
       " 'Institut Mines Telecom, Telecom ParisTech, CNRS LTCI, Paris',\n",
       " 'Institut de Mathematiques de Toulouse (UMR 5219), CNRS, Paris',\n",
       " 'Institute for Infocomm Research, Agency for Science, Technology and Research, Singapore',\n",
       " 'Institute of Neuroinformatics UZH/ETHZ, Zurich',\n",
       " 'Institute of Nuclear Medicine, UCL, London',\n",
       " 'Instituto Nacional de Ciencia e Tecnologia em Medicina Assistida por Computacao Cientifica, INCT-MACC, Petropolis',\n",
       " 'Instituto do Coracao (InCor), Sao Paulo',\n",
       " 'Intuitive Surgical Inc., Sunnyvale',\n",
       " 'Istituto Italiano di Tecnologia, Genova',\n",
       " 'Johns Hopkins University, Baltimore',\n",
       " 'KTH Royal Institute of Technology, Stockholm',\n",
       " 'KU Leuven, Leuven',\n",
       " 'Key Lab for Health Informatics of Chinese Academy of Sciences, Shenzhen',\n",
       " \"King's College London, London\",\n",
       " 'Klinikum Grosshadern, Ludwig-Maximilians-Universitat Munchen, Munchen',\n",
       " 'Klinikum der Universitat Munchen, LMU, Munchen',\n",
       " 'Korea University, Seoul',\n",
       " 'Kyoto University, Kyoto',\n",
       " 'Laboratorio Nacional de Computacao Cientifica, LNCC-MCTI, Petropolis',\n",
       " 'Leeds Teaching Hospitals NHS Trust, Leeds',\n",
       " 'Lehigh University, Bethlehem',\n",
       " 'Leiden University Medical Center, Leiden',\n",
       " 'Leipzig University, Leipzig',\n",
       " 'Linkoping University, Linkoping',\n",
       " 'London Health Sciences Centre, London',\n",
       " 'Ludong University, Yantai',\n",
       " 'Ludwig Boltzmann Institute for Clinical Forensic Imaging, Graz',\n",
       " 'Ludwig Boltzmann Institute for Lung Vascular Research, Graz',\n",
       " 'Ludwig-Maximilians-Universitat Munchen, Munchen',\n",
       " 'Ludwigs Maximillian Universitat Munchen, Munchen',\n",
       " 'MAHSC, Manchester',\n",
       " 'MGH/Harvard, Massachusetts',\n",
       " 'MIT, Cambridge',\n",
       " 'Martinos Center for Biomedical Imaging, Harvard-MIT Division of Health Sciences and Technology, Charlestown',\n",
       " 'Massachusetts Eye and Ear Infirmary, Harvard Medical School, Boston',\n",
       " 'Massachusetts General Hospital and Harvard Medical School, Boston',\n",
       " 'Massachusetts General Hospital, Boston',\n",
       " 'Massachusetts General Hospital, Harvard Medical School, Boston',\n",
       " 'Massachusetts General Hospital, Harvard Medical School, Charlestown',\n",
       " 'Massachusetts Institute of Technology, Cambridge',\n",
       " 'Mauna Kea Technologies, Paris',\n",
       " 'Max Planck Institute for Intelligent Systems, Tubingen',\n",
       " 'Max Planck Institute of Molecular Cell Biology and Genetics, Dresden',\n",
       " 'Max Planck Institute of Psychiatry, Munich',\n",
       " 'Max Plank Digital Library, Munchen',\n",
       " 'Mayo Clinic, Scottsdale',\n",
       " 'McGill University, Montreal',\n",
       " 'Medical Image Computing, German Cancer Research Center (DKFZ), Heidelberg',\n",
       " 'Medical University of Graz, Graz',\n",
       " 'Medical University of Vienna, Vienna',\n",
       " 'Medisys - Philips Research, Paris',\n",
       " 'Michigan State University, East Lansing',\n",
       " 'Microsoft Research, Cambridge',\n",
       " 'Missouri University of Science and Technology, Rolla',\n",
       " 'NIH, Bethesda',\n",
       " 'Nanjing University of Science & Technology, Nanjing',\n",
       " 'Nanjing University of Science and Technology, Nanjing',\n",
       " 'Nanyang Technological University, Singapore',\n",
       " 'Nara Institute of Science and Technology, Nara',\n",
       " 'National Cancer Institute, Bethesda',\n",
       " 'National Institutes of Health Clinical Center, Bethesda',\n",
       " 'National Institutes of Health, Bethesda',\n",
       " 'National Technical University of Athens, Athens',\n",
       " 'National University of Singapore, Singapore',\n",
       " 'NeuroInformatics Laboratory, Fondazione Bruno Kessler, Trento',\n",
       " 'New York University, New York',\n",
       " \"Northwestern Polytechnical University, Xi'an\",\n",
       " 'Northwestern University, Evanston',\n",
       " 'Northwick Park Hospital, London',\n",
       " 'Nuffield Department of Obstetrics & Gynaecology University of Oxford, Oxford',\n",
       " 'Olea Medical, La Ciotat',\n",
       " 'Osaka University, Osaka',\n",
       " 'Otto-von-Guericke University, Magdeburg',\n",
       " 'Parietal Team, INRIA Saclay-Ile-de-France, Saclay',\n",
       " 'Philips Healthcare, Best',\n",
       " 'Philips Healthcare, Bothell',\n",
       " 'Philips Healthcare, Cleveland',\n",
       " 'Philips Healthcare, Haifa',\n",
       " 'Philips Research MediSys, Paris',\n",
       " 'Philips Research North America, Briarcliff Manor',\n",
       " 'Philips Research, Bothell',\n",
       " 'Philips Research, Hamburg',\n",
       " \"Queen's University, Kingston\",\n",
       " 'Rabin Medical Center, Petah-Tikva',\n",
       " 'Radboud University Medical Center, Nijmegen',\n",
       " 'Research Training Group 1773 \"Heterogeneous Image Systems\", Erlangen',\n",
       " 'Rochester Institute of Technology, Rochester',\n",
       " \"Royal Brisbane and Women's Hospital, Herston\",\n",
       " 'Rutgers University, Piscataway',\n",
       " 'SRI International, Menlo Park',\n",
       " 'Sabanci University, Istanbul',\n",
       " 'Sabanci University, Sabanci',\n",
       " 'Section on Tissue Biophysics and Biomimetics (STBB), PPITS, NICHD, NIBIB, Bethesda',\n",
       " 'Shanghai Jiao Tong University, Shanghai',\n",
       " 'Shanghai University, Shanghai',\n",
       " 'Sheikh Zayed Institute for Pediatric Surgical Innovation, Washington DC',\n",
       " 'Shenzhen Maternal and Child Healthcare Hospital of Nanfang Medical University, Shenzhen',\n",
       " 'Shenzhen University, Shenzhen',\n",
       " 'Siemens AG, Corporate Technology, Munich',\n",
       " 'Siemens AG, Healthcare, Forchheim',\n",
       " 'Siemens Corporate Technology, Brasov',\n",
       " 'Siemens Corporate Technology, Chennai',\n",
       " 'Siemens Corporate Technology, Erlangen',\n",
       " 'Siemens Corporate Technology, Princeton',\n",
       " 'Siemens Corporation, Corporate Technology, Princeton',\n",
       " 'Siemens Corporation, Healthcare Clinical Products, Ultrasound, Mountain View',\n",
       " 'Siemens Healthcare GmbH, Erlangen',\n",
       " 'Siemens Healthcare GmbH, Forchheim',\n",
       " 'Siemens Healthcare USA, Boston',\n",
       " 'Siemens Healthcare, Erlangen',\n",
       " 'Siemens Healthcare, Forchheim',\n",
       " 'Siemens Healthcare, Malvern',\n",
       " 'Siemens Medical Solutions, Knoxville',\n",
       " 'Simon Fraser University, Burnaby',\n",
       " 'Sorbonne Universites, Universite de Technologie de Compiegne, CNRS, UMR 7253 Heudiasyc, Compiegne',\n",
       " 'Southern Medical University, Guangzhou',\n",
       " \"St. Joseph's Health Care, London\",\n",
       " 'St. Jude Childrens Research Hospital from Memphis, Memphis',\n",
       " 'Stanford University, Stanford',\n",
       " 'Stony Brook University, Stony Brook',\n",
       " 'Sunnybrook Health Sciences Centre, Toronto',\n",
       " 'Swansea University, Swansea',\n",
       " 'Swiss Federal Institute of Technology, Zurich',\n",
       " 'TU Chemnitz, Chemnitz',\n",
       " 'TU, Berlin',\n",
       " 'TU, Delft',\n",
       " 'TUM, Munich',\n",
       " 'Tan Tock Seng Hospital, Singapore',\n",
       " 'Technical University Dresden, Dresden',\n",
       " 'Technical University of Denmark, Lyngby',\n",
       " 'Technical University of Munich, Munich',\n",
       " 'Technische Universitat Munchen, Garching',\n",
       " 'Technische Universitat Munchen, Munchen',\n",
       " 'Technische Universitat Munchen, Munich',\n",
       " 'Technology and Research (A*STAR), Singapore',\n",
       " 'The Chinese University of Hong Kong, Shatin',\n",
       " 'The Hospital for Sick Children and The University of Toronto, Toronto',\n",
       " 'The Institute of Cancer Research, London',\n",
       " 'The Ohio State University, Columbus',\n",
       " \"The Second People's Hospital of Shenzhen, Shenzhen\",\n",
       " 'The University of Adelaide, Adelaide',\n",
       " 'The University of British Columbia, Vancouver',\n",
       " 'The University of Georgia, Athens',\n",
       " 'The University of Leeds, Leeds',\n",
       " 'The University of Queensland, Brisbane',\n",
       " 'The University of Tokyo Hospital, Tokyo',\n",
       " 'The University of Western Ontario, London',\n",
       " 'Tokyo University of Agriculture and Technology, Koganei, Tokyo',\n",
       " 'Trier University of Applied Sciences, Trier',\n",
       " 'Tsukuba University, Tsukuba',\n",
       " 'U947, Inserm, Nancy',\n",
       " 'UBC, Vancouver',\n",
       " 'UCL Medical Physics and Bioengineering, London',\n",
       " 'UCL Medical School, London',\n",
       " 'UCSF, San Francisco',\n",
       " 'UMC Utrecht, Utrecht',\n",
       " 'UNC Charlotte, Charlotte',\n",
       " 'UT Arlington, Arlington',\n",
       " 'UZ Leuven, Leuven',\n",
       " 'UZH/ETH Zurich, Zurich',\n",
       " 'Ulsan National Institute of Science and Technology (UNIST), Ulsan',\n",
       " 'Univ. Grenoble Alpes, GIN, Grenoble',\n",
       " 'Univ. Grenoble Alpes, LJK, Grenoble',\n",
       " 'Univ. of Rennes I, Rennes',\n",
       " 'Universidad Nacional de Colombia, Bogota',\n",
       " 'Universidad Politecnica de Madrid and CIBERBBN, Madrid',\n",
       " 'Universidad de Sao Paulo, Sao Paulo',\n",
       " 'Universitat Pompeu Fabra, Barcelona',\n",
       " 'Universite de Lorraine, Nancy',\n",
       " 'Universite de Rennes 1, IRISA, Rennes',\n",
       " 'Universite de Rouen, QuantIF - EA 4108 LITIS, Rouen',\n",
       " 'Universite de Strasbourg, Illkirch',\n",
       " 'University College Hospital, London',\n",
       " 'University College London Hospitals, London',\n",
       " 'University College London, London',\n",
       " 'University College of London, London',\n",
       " 'University Dept Surgery, London',\n",
       " 'University Health Network, Toronto',\n",
       " 'University Hospital Heidelberg, Heidelberg',\n",
       " 'University Hospital of Strasbourg, Strasbourg',\n",
       " 'University Hospitals KU Leuven, Leuven',\n",
       " 'University Hospitals Leuven, KU Leuven, Leuven',\n",
       " 'University Hospitals of Geneva and Faculty of Medicine of the University of Geneva, Geneva',\n",
       " 'University Hospitals of Geneva, Geneva',\n",
       " 'University Medical Center, Freiburg',\n",
       " 'University and ETH Zurich, Zurich',\n",
       " 'University of Adelaide, Adelaide',\n",
       " 'University of Applied Sciences Western Switzerland (HES-SO), Delemont',\n",
       " 'University of Auckland, Auckland',\n",
       " 'University of Basel, Basel',\n",
       " 'University of Bern, Bern',\n",
       " 'University of Bologna, Bologna',\n",
       " 'University of Bonn, Bonn',\n",
       " 'University of Brasilia, Brasilia',\n",
       " 'University of British Columbia and Child and Family Research Institute, Vancouver',\n",
       " 'University of British Columbia, Vancouver',\n",
       " 'University of California, Los Angeles',\n",
       " 'University of California, San Diego',\n",
       " 'University of California, San Francisco, San Francisco',\n",
       " 'University of California, Santa Barbara',\n",
       " 'University of Canberra, Canberra',\n",
       " 'University of Chinese Academy of Sciences, Shenzhen',\n",
       " 'University of Copenhagen, Copenhagen',\n",
       " 'University of Dundee, Dundee',\n",
       " 'University of Eastern Finland, Joensuu',\n",
       " 'University of Electronic Science & Technology, Chengdu',\n",
       " 'University of Florida, Gainesville',\n",
       " 'University of Freiburg, Freiburg',\n",
       " 'University of Haifa Campus, Haifa',\n",
       " 'University of Heidelberg, Heidelberg',\n",
       " 'University of Iowa, Iowa City',\n",
       " 'University of Ljubljana, Ljubljana',\n",
       " 'University of Louisville, Louisville',\n",
       " 'University of Lubeck, Lubeck',\n",
       " 'University of Luxembourg, Esch-sur-Alzette',\n",
       " 'University of Magdeburg, Magdeburg',\n",
       " 'University of Manchester, Manchester',\n",
       " 'University of Melbourne, Melbourne',\n",
       " 'University of Michigan, Ann Arbor',\n",
       " 'University of Milan, Milan',\n",
       " 'University of Minnesota, Minneapolis',\n",
       " 'University of North Carolina at Charlotte, Charlotte',\n",
       " 'University of North Carolina, Chapel Hill',\n",
       " 'University of Notre Dame, Notre Dame',\n",
       " 'University of Oxford, Headington',\n",
       " 'University of Oxford, Oxford',\n",
       " 'University of Pennsylvania, Philadelphia',\n",
       " 'University of Queensland, St Lucia',\n",
       " 'University of Salzburg, Salzburg',\n",
       " 'University of Sao Paulo, Sao Paulo',\n",
       " 'University of Sheffield, Sheffield',\n",
       " 'University of Southern California, Los Angeles',\n",
       " 'University of Southern California, Marina del Rey',\n",
       " 'University of Strasbourg, CNRS, IHU Strasbourg, Strasbourg',\n",
       " 'University of Sydney, Sydney',\n",
       " 'University of Technology, Dresden',\n",
       " 'University of Tennessee-Knoxville, Knoxville',\n",
       " 'University of Texas at Arlington, Arlington',\n",
       " 'University of Utah, Salt Lake',\n",
       " 'University of Utah, Salt Lake City',\n",
       " 'University of Verona, Verona',\n",
       " 'University of Western Australia, Crawley',\n",
       " 'University of Western Ontario, London',\n",
       " 'University of Wisconsin - Madison, Madison',\n",
       " 'University of Wisconsin, Madison',\n",
       " 'University of Wollongong, Wollongong',\n",
       " 'Universtiy of British Columbia, Vancouver',\n",
       " 'Vancouver Cancer Centre, British Columbia Cancer Agency, Vancouver',\n",
       " 'Vancouver General Hospital, Vancouver',\n",
       " 'Vanderbilt University, Nashville',\n",
       " 'Wake Forest School of Medicine, Winston-Salem',\n",
       " 'Washington University School of Medicine, Saint Louis',\n",
       " 'Wayne State University, Detroit',\n",
       " 'Weill Medical College, Cornell University, New York',\n",
       " 'Weizmann Institute of Science, Rehovot',\n",
       " 'Woolcock Institute of Medical Research, Sydney',\n",
       " 'Xiamen University, Xiamen',\n",
       " 'Zhejiang University, Zhejiang',\n",
       " 'Zurich University of Applied Sciences, Wadenswil',\n",
       " 'iMinds, Leuven',\n",
       " 'pRED, NORD DTA, Hoffmann-La Roche, Ltd Basel, Basel']"
      ]
     },
     "execution_count": 33,
     "metadata": {},
     "output_type": "execute_result"
    }
   ],
   "source": [
    "sorted(pd.unique(df_2015_c['Institutes']))"
   ]
  },
  {
   "cell_type": "code",
   "execution_count": 34,
   "metadata": {
    "ExecuteTime": {
     "end_time": "2020-10-05T13:07:44.901602Z",
     "start_time": "2020-10-05T13:07:42.415653Z"
    }
   },
   "outputs": [
    {
     "data": {
      "text/plain": [
       "392"
      ]
     },
     "execution_count": 34,
     "metadata": {},
     "output_type": "execute_result"
    }
   ],
   "source": [
    "len(pd.unique(df_2015_c['Institutes']))\n",
    "# len(df_2015_c['Name'])\n",
    "# len(pd.unique(df_2015_c['Name'] + df_2015_c['Institutes'] + df_2015_c['Countries']))"
   ]
  },
  {
   "cell_type": "code",
   "execution_count": 35,
   "metadata": {
    "ExecuteTime": {
     "end_time": "2020-10-05T13:07:50.761033Z",
     "start_time": "2020-10-05T13:07:44.902934Z"
    }
   },
   "outputs": [
    {
     "data": {
      "text/html": [
       "<div>\n",
       "<style scoped>\n",
       "    .dataframe tbody tr th:only-of-type {\n",
       "        vertical-align: middle;\n",
       "    }\n",
       "\n",
       "    .dataframe tbody tr th {\n",
       "        vertical-align: top;\n",
       "    }\n",
       "\n",
       "    .dataframe thead th {\n",
       "        text-align: right;\n",
       "    }\n",
       "</style>\n",
       "<table border=\"1\" class=\"dataframe\">\n",
       "  <thead>\n",
       "    <tr style=\"text-align: right;\">\n",
       "      <th></th>\n",
       "      <th>Name</th>\n",
       "      <th>Institutes</th>\n",
       "      <th>Countries</th>\n",
       "    </tr>\n",
       "  </thead>\n",
       "  <tbody>\n",
       "    <tr>\n",
       "      <th>0</th>\n",
       "      <td>Xin Yang</td>\n",
       "      <td>Huazhong University of Science and Technology,...</td>\n",
       "      <td>China</td>\n",
       "    </tr>\n",
       "    <tr>\n",
       "      <th>1</th>\n",
       "      <td>Hung Le Minh</td>\n",
       "      <td>Huazhong University of Science and Technology,...</td>\n",
       "      <td>China</td>\n",
       "    </tr>\n",
       "    <tr>\n",
       "      <th>2</th>\n",
       "      <td>Tim Cheng</td>\n",
       "      <td>University of California, Santa Barbara</td>\n",
       "      <td>United States</td>\n",
       "    </tr>\n",
       "    <tr>\n",
       "      <th>3</th>\n",
       "      <td>Kyung Hyun Sung</td>\n",
       "      <td>University of California, Los Angeles</td>\n",
       "      <td>United States</td>\n",
       "    </tr>\n",
       "    <tr>\n",
       "      <th>4</th>\n",
       "      <td>Wenyu Liu</td>\n",
       "      <td>Huazhong University of Science and Technology,...</td>\n",
       "      <td>China</td>\n",
       "    </tr>\n",
       "    <tr>\n",
       "      <th>...</th>\n",
       "      <td>...</td>\n",
       "      <td>...</td>\n",
       "      <td>...</td>\n",
       "    </tr>\n",
       "    <tr>\n",
       "      <th>1586</th>\n",
       "      <td>Gang Wang</td>\n",
       "      <td>Arizona State University, Tempe</td>\n",
       "      <td>United States</td>\n",
       "    </tr>\n",
       "    <tr>\n",
       "      <th>1587</th>\n",
       "      <td>Yalin Wang</td>\n",
       "      <td>Arizona State University, Tempe</td>\n",
       "      <td>United States</td>\n",
       "    </tr>\n",
       "    <tr>\n",
       "      <th>1588</th>\n",
       "      <td>Muhammad Razib</td>\n",
       "      <td>Florida International University, Miami</td>\n",
       "      <td>United States</td>\n",
       "    </tr>\n",
       "    <tr>\n",
       "      <th>1589</th>\n",
       "      <td>Zhong-Lin Lu</td>\n",
       "      <td>The Ohio State University, Columbus</td>\n",
       "      <td>United States</td>\n",
       "    </tr>\n",
       "    <tr>\n",
       "      <th>1590</th>\n",
       "      <td>Wei Zeng</td>\n",
       "      <td>Florida International University, Miami</td>\n",
       "      <td>United States</td>\n",
       "    </tr>\n",
       "  </tbody>\n",
       "</table>\n",
       "<p>1591 rows × 3 columns</p>\n",
       "</div>"
      ],
      "text/plain": [
       "                 Name                                         Institutes  \\\n",
       "0            Xin Yang  Huazhong University of Science and Technology,...   \n",
       "1        Hung Le Minh  Huazhong University of Science and Technology,...   \n",
       "2           Tim Cheng            University of California, Santa Barbara   \n",
       "3     Kyung Hyun Sung              University of California, Los Angeles   \n",
       "4           Wenyu Liu  Huazhong University of Science and Technology,...   \n",
       "...               ...                                                ...   \n",
       "1586        Gang Wang                    Arizona State University, Tempe   \n",
       "1587       Yalin Wang                    Arizona State University, Tempe   \n",
       "1588   Muhammad Razib            Florida International University, Miami   \n",
       "1589     Zhong-Lin Lu                The Ohio State University, Columbus   \n",
       "1590         Wei Zeng            Florida International University, Miami   \n",
       "\n",
       "          Countries  \n",
       "0             China  \n",
       "1             China  \n",
       "2     United States  \n",
       "3     United States  \n",
       "4             China  \n",
       "...             ...  \n",
       "1586  United States  \n",
       "1587  United States  \n",
       "1588  United States  \n",
       "1589  United States  \n",
       "1590  United States  \n",
       "\n",
       "[1591 rows x 3 columns]"
      ]
     },
     "execution_count": 35,
     "metadata": {},
     "output_type": "execute_result"
    }
   ],
   "source": [
    "# df_2015_c[df_2015_c.duplicated(keep=False)]\n",
    "df_2015_c"
   ]
  },
  {
   "cell_type": "code",
   "execution_count": 36,
   "metadata": {
    "ExecuteTime": {
     "end_time": "2020-10-05T13:07:51.139467Z",
     "start_time": "2020-10-05T13:07:50.762883Z"
    }
   },
   "outputs": [
    {
     "data": {
      "text/html": [
       "<div>\n",
       "<style scoped>\n",
       "    .dataframe tbody tr th:only-of-type {\n",
       "        vertical-align: middle;\n",
       "    }\n",
       "\n",
       "    .dataframe tbody tr th {\n",
       "        vertical-align: top;\n",
       "    }\n",
       "\n",
       "    .dataframe thead th {\n",
       "        text-align: right;\n",
       "    }\n",
       "</style>\n",
       "<table border=\"1\" class=\"dataframe\">\n",
       "  <thead>\n",
       "    <tr style=\"text-align: right;\">\n",
       "      <th></th>\n",
       "      <th>index</th>\n",
       "      <th>Name</th>\n",
       "      <th>Institutes</th>\n",
       "      <th>Countries</th>\n",
       "    </tr>\n",
       "  </thead>\n",
       "  <tbody>\n",
       "    <tr>\n",
       "      <th>0</th>\n",
       "      <td>0</td>\n",
       "      <td>Xin Yang</td>\n",
       "      <td>Huazhong University of Science and Technology,...</td>\n",
       "      <td>China</td>\n",
       "    </tr>\n",
       "    <tr>\n",
       "      <th>1</th>\n",
       "      <td>1</td>\n",
       "      <td>Hung Le Minh</td>\n",
       "      <td>Huazhong University of Science and Technology,...</td>\n",
       "      <td>China</td>\n",
       "    </tr>\n",
       "    <tr>\n",
       "      <th>2</th>\n",
       "      <td>2</td>\n",
       "      <td>Tim Cheng</td>\n",
       "      <td>University of California, Santa Barbara</td>\n",
       "      <td>United States</td>\n",
       "    </tr>\n",
       "    <tr>\n",
       "      <th>3</th>\n",
       "      <td>3</td>\n",
       "      <td>Kyung Hyun Sung</td>\n",
       "      <td>University of California, Los Angeles</td>\n",
       "      <td>United States</td>\n",
       "    </tr>\n",
       "    <tr>\n",
       "      <th>4</th>\n",
       "      <td>4</td>\n",
       "      <td>Wenyu Liu</td>\n",
       "      <td>Huazhong University of Science and Technology,...</td>\n",
       "      <td>China</td>\n",
       "    </tr>\n",
       "    <tr>\n",
       "      <th>...</th>\n",
       "      <td>...</td>\n",
       "      <td>...</td>\n",
       "      <td>...</td>\n",
       "      <td>...</td>\n",
       "    </tr>\n",
       "    <tr>\n",
       "      <th>1106</th>\n",
       "      <td>1586</td>\n",
       "      <td>Gang Wang</td>\n",
       "      <td>Arizona State University, Tempe</td>\n",
       "      <td>United States</td>\n",
       "    </tr>\n",
       "    <tr>\n",
       "      <th>1107</th>\n",
       "      <td>1587</td>\n",
       "      <td>Yalin Wang</td>\n",
       "      <td>Arizona State University, Tempe</td>\n",
       "      <td>United States</td>\n",
       "    </tr>\n",
       "    <tr>\n",
       "      <th>1108</th>\n",
       "      <td>1588</td>\n",
       "      <td>Muhammad Razib</td>\n",
       "      <td>Florida International University, Miami</td>\n",
       "      <td>United States</td>\n",
       "    </tr>\n",
       "    <tr>\n",
       "      <th>1109</th>\n",
       "      <td>1589</td>\n",
       "      <td>Zhong-Lin Lu</td>\n",
       "      <td>The Ohio State University, Columbus</td>\n",
       "      <td>United States</td>\n",
       "    </tr>\n",
       "    <tr>\n",
       "      <th>1110</th>\n",
       "      <td>1590</td>\n",
       "      <td>Wei Zeng</td>\n",
       "      <td>Florida International University, Miami</td>\n",
       "      <td>United States</td>\n",
       "    </tr>\n",
       "  </tbody>\n",
       "</table>\n",
       "<p>1111 rows × 4 columns</p>\n",
       "</div>"
      ],
      "text/plain": [
       "      index             Name  \\\n",
       "0         0         Xin Yang   \n",
       "1         1     Hung Le Minh   \n",
       "2         2        Tim Cheng   \n",
       "3         3  Kyung Hyun Sung   \n",
       "4         4        Wenyu Liu   \n",
       "...     ...              ...   \n",
       "1106   1586        Gang Wang   \n",
       "1107   1587       Yalin Wang   \n",
       "1108   1588   Muhammad Razib   \n",
       "1109   1589     Zhong-Lin Lu   \n",
       "1110   1590         Wei Zeng   \n",
       "\n",
       "                                             Institutes      Countries  \n",
       "0     Huazhong University of Science and Technology,...          China  \n",
       "1     Huazhong University of Science and Technology,...          China  \n",
       "2               University of California, Santa Barbara  United States  \n",
       "3                 University of California, Los Angeles  United States  \n",
       "4     Huazhong University of Science and Technology,...          China  \n",
       "...                                                 ...            ...  \n",
       "1106                    Arizona State University, Tempe  United States  \n",
       "1107                    Arizona State University, Tempe  United States  \n",
       "1108            Florida International University, Miami  United States  \n",
       "1109                The Ohio State University, Columbus  United States  \n",
       "1110            Florida International University, Miami  United States  \n",
       "\n",
       "[1111 rows x 4 columns]"
      ]
     },
     "execution_count": 36,
     "metadata": {},
     "output_type": "execute_result"
    }
   ],
   "source": [
    "df_2015_countries = df_2015_c.drop_duplicates(subset = [\"Name\", \"Countries\"]).reset_index()\n",
    "df_2015_countries"
   ]
  },
  {
   "cell_type": "code",
   "execution_count": 37,
   "metadata": {
    "ExecuteTime": {
     "end_time": "2020-10-05T13:07:51.626450Z",
     "start_time": "2020-10-05T13:07:51.141070Z"
    }
   },
   "outputs": [],
   "source": [
    "code_csv = pd.read_csv('./data/code.csv')\n",
    "\n",
    "code_dict = code_csv.set_index('COUNTRY').T.to_dict('list')\n",
    "\n",
    "df_2015_countries['code'] = df_2015_countries['Countries'].apply(lambda x: code_dict[x][0])"
   ]
  },
  {
   "cell_type": "code",
   "execution_count": 38,
   "metadata": {
    "ExecuteTime": {
     "end_time": "2020-10-05T13:07:51.880180Z",
     "start_time": "2020-10-05T13:07:51.627967Z"
    }
   },
   "outputs": [
    {
     "data": {
      "text/plain": [
       "1111"
      ]
     },
     "execution_count": 38,
     "metadata": {},
     "output_type": "execute_result"
    }
   ],
   "source": [
    "df_2015_countries\n",
    "len(pd.unique(df_2015_countries['Name'] + df_2015_countries['code']))"
   ]
  },
  {
   "cell_type": "code",
   "execution_count": 39,
   "metadata": {
    "ExecuteTime": {
     "end_time": "2020-10-05T13:07:52.113472Z",
     "start_time": "2020-10-05T13:07:51.881838Z"
    }
   },
   "outputs": [
    {
     "data": {
      "text/html": [
       "<div>\n",
       "<style scoped>\n",
       "    .dataframe tbody tr th:only-of-type {\n",
       "        vertical-align: middle;\n",
       "    }\n",
       "\n",
       "    .dataframe tbody tr th {\n",
       "        vertical-align: top;\n",
       "    }\n",
       "\n",
       "    .dataframe thead th {\n",
       "        text-align: right;\n",
       "    }\n",
       "</style>\n",
       "<table border=\"1\" class=\"dataframe\">\n",
       "  <thead>\n",
       "    <tr style=\"text-align: right;\">\n",
       "      <th></th>\n",
       "      <th>Countries</th>\n",
       "      <th>code</th>\n",
       "      <th>count</th>\n",
       "    </tr>\n",
       "  </thead>\n",
       "  <tbody>\n",
       "    <tr>\n",
       "      <th>0</th>\n",
       "      <td>Argentina</td>\n",
       "      <td>ARG</td>\n",
       "      <td>1</td>\n",
       "    </tr>\n",
       "    <tr>\n",
       "      <th>1</th>\n",
       "      <td>Australia</td>\n",
       "      <td>AUS</td>\n",
       "      <td>29</td>\n",
       "    </tr>\n",
       "    <tr>\n",
       "      <th>2</th>\n",
       "      <td>Austria</td>\n",
       "      <td>AUT</td>\n",
       "      <td>12</td>\n",
       "    </tr>\n",
       "    <tr>\n",
       "      <th>3</th>\n",
       "      <td>Belgium</td>\n",
       "      <td>BEL</td>\n",
       "      <td>9</td>\n",
       "    </tr>\n",
       "    <tr>\n",
       "      <th>4</th>\n",
       "      <td>Brazil</td>\n",
       "      <td>BRA</td>\n",
       "      <td>8</td>\n",
       "    </tr>\n",
       "    <tr>\n",
       "      <th>5</th>\n",
       "      <td>Canada</td>\n",
       "      <td>CAN</td>\n",
       "      <td>88</td>\n",
       "    </tr>\n",
       "    <tr>\n",
       "      <th>6</th>\n",
       "      <td>China</td>\n",
       "      <td>CHN</td>\n",
       "      <td>47</td>\n",
       "    </tr>\n",
       "    <tr>\n",
       "      <th>7</th>\n",
       "      <td>Colombia</td>\n",
       "      <td>COL</td>\n",
       "      <td>4</td>\n",
       "    </tr>\n",
       "    <tr>\n",
       "      <th>8</th>\n",
       "      <td>Czech Republic</td>\n",
       "      <td>CZE</td>\n",
       "      <td>1</td>\n",
       "    </tr>\n",
       "    <tr>\n",
       "      <th>9</th>\n",
       "      <td>Denmark</td>\n",
       "      <td>DNK</td>\n",
       "      <td>11</td>\n",
       "    </tr>\n",
       "    <tr>\n",
       "      <th>10</th>\n",
       "      <td>Finland</td>\n",
       "      <td>FIN</td>\n",
       "      <td>5</td>\n",
       "    </tr>\n",
       "    <tr>\n",
       "      <th>11</th>\n",
       "      <td>France</td>\n",
       "      <td>FRA</td>\n",
       "      <td>75</td>\n",
       "    </tr>\n",
       "    <tr>\n",
       "      <th>12</th>\n",
       "      <td>Germany</td>\n",
       "      <td>DEU</td>\n",
       "      <td>129</td>\n",
       "    </tr>\n",
       "    <tr>\n",
       "      <th>13</th>\n",
       "      <td>Greece</td>\n",
       "      <td>GRC</td>\n",
       "      <td>2</td>\n",
       "    </tr>\n",
       "    <tr>\n",
       "      <th>14</th>\n",
       "      <td>Hong Kong</td>\n",
       "      <td>HKG</td>\n",
       "      <td>9</td>\n",
       "    </tr>\n",
       "    <tr>\n",
       "      <th>15</th>\n",
       "      <td>India</td>\n",
       "      <td>IND</td>\n",
       "      <td>16</td>\n",
       "    </tr>\n",
       "    <tr>\n",
       "      <th>16</th>\n",
       "      <td>Israel</td>\n",
       "      <td>ISR</td>\n",
       "      <td>16</td>\n",
       "    </tr>\n",
       "    <tr>\n",
       "      <th>17</th>\n",
       "      <td>Italy</td>\n",
       "      <td>ITA</td>\n",
       "      <td>19</td>\n",
       "    </tr>\n",
       "    <tr>\n",
       "      <th>18</th>\n",
       "      <td>Japan</td>\n",
       "      <td>JPN</td>\n",
       "      <td>19</td>\n",
       "    </tr>\n",
       "    <tr>\n",
       "      <th>19</th>\n",
       "      <td>Luxembourg</td>\n",
       "      <td>LUX</td>\n",
       "      <td>4</td>\n",
       "    </tr>\n",
       "    <tr>\n",
       "      <th>20</th>\n",
       "      <td>Netherlands</td>\n",
       "      <td>NLD</td>\n",
       "      <td>25</td>\n",
       "    </tr>\n",
       "    <tr>\n",
       "      <th>21</th>\n",
       "      <td>New Zealand</td>\n",
       "      <td>NZL</td>\n",
       "      <td>4</td>\n",
       "    </tr>\n",
       "    <tr>\n",
       "      <th>22</th>\n",
       "      <td>Norway</td>\n",
       "      <td>NOR</td>\n",
       "      <td>1</td>\n",
       "    </tr>\n",
       "    <tr>\n",
       "      <th>23</th>\n",
       "      <td>Portugal</td>\n",
       "      <td>PRT</td>\n",
       "      <td>1</td>\n",
       "    </tr>\n",
       "    <tr>\n",
       "      <th>24</th>\n",
       "      <td>Republic of Korea</td>\n",
       "      <td>KOR</td>\n",
       "      <td>3</td>\n",
       "    </tr>\n",
       "    <tr>\n",
       "      <th>25</th>\n",
       "      <td>Romania</td>\n",
       "      <td>ROU</td>\n",
       "      <td>2</td>\n",
       "    </tr>\n",
       "    <tr>\n",
       "      <th>26</th>\n",
       "      <td>Singapore</td>\n",
       "      <td>SGP</td>\n",
       "      <td>25</td>\n",
       "    </tr>\n",
       "    <tr>\n",
       "      <th>27</th>\n",
       "      <td>Slovenia</td>\n",
       "      <td>SVN</td>\n",
       "      <td>4</td>\n",
       "    </tr>\n",
       "    <tr>\n",
       "      <th>28</th>\n",
       "      <td>South Korea</td>\n",
       "      <td>KOR</td>\n",
       "      <td>4</td>\n",
       "    </tr>\n",
       "    <tr>\n",
       "      <th>29</th>\n",
       "      <td>Spain</td>\n",
       "      <td>ESP</td>\n",
       "      <td>6</td>\n",
       "    </tr>\n",
       "    <tr>\n",
       "      <th>30</th>\n",
       "      <td>Sweden</td>\n",
       "      <td>SWE</td>\n",
       "      <td>4</td>\n",
       "    </tr>\n",
       "    <tr>\n",
       "      <th>31</th>\n",
       "      <td>Switzerland</td>\n",
       "      <td>CHE</td>\n",
       "      <td>31</td>\n",
       "    </tr>\n",
       "    <tr>\n",
       "      <th>32</th>\n",
       "      <td>Turkey</td>\n",
       "      <td>TUR</td>\n",
       "      <td>5</td>\n",
       "    </tr>\n",
       "    <tr>\n",
       "      <th>33</th>\n",
       "      <td>United Kingdom</td>\n",
       "      <td>GBR</td>\n",
       "      <td>161</td>\n",
       "    </tr>\n",
       "    <tr>\n",
       "      <th>34</th>\n",
       "      <td>United States</td>\n",
       "      <td>USA</td>\n",
       "      <td>331</td>\n",
       "    </tr>\n",
       "  </tbody>\n",
       "</table>\n",
       "</div>"
      ],
      "text/plain": [
       "            Countries  code  count\n",
       "0           Argentina   ARG      1\n",
       "1           Australia   AUS     29\n",
       "2             Austria   AUT     12\n",
       "3             Belgium   BEL      9\n",
       "4              Brazil   BRA      8\n",
       "5              Canada   CAN     88\n",
       "6               China   CHN     47\n",
       "7            Colombia   COL      4\n",
       "8      Czech Republic   CZE      1\n",
       "9             Denmark   DNK     11\n",
       "10            Finland   FIN      5\n",
       "11             France   FRA     75\n",
       "12            Germany   DEU    129\n",
       "13             Greece   GRC      2\n",
       "14          Hong Kong   HKG      9\n",
       "15              India   IND     16\n",
       "16             Israel   ISR     16\n",
       "17              Italy   ITA     19\n",
       "18              Japan   JPN     19\n",
       "19         Luxembourg   LUX      4\n",
       "20        Netherlands   NLD     25\n",
       "21        New Zealand   NZL      4\n",
       "22             Norway   NOR      1\n",
       "23           Portugal   PRT      1\n",
       "24  Republic of Korea   KOR      3\n",
       "25            Romania   ROU      2\n",
       "26          Singapore   SGP     25\n",
       "27           Slovenia   SVN      4\n",
       "28        South Korea   KOR      4\n",
       "29              Spain   ESP      6\n",
       "30             Sweden   SWE      4\n",
       "31        Switzerland   CHE     31\n",
       "32             Turkey   TUR      5\n",
       "33     United Kingdom   GBR    161\n",
       "34      United States   USA    331"
      ]
     },
     "execution_count": 39,
     "metadata": {},
     "output_type": "execute_result"
    }
   ],
   "source": [
    "df = df_2015_countries.groupby(['Countries', 'code']).size().to_frame(name='count').reset_index()\n",
    "df"
   ]
  },
  {
   "cell_type": "code",
   "execution_count": 40,
   "metadata": {
    "ExecuteTime": {
     "end_time": "2020-10-05T13:07:52.288614Z",
     "start_time": "2020-10-05T13:07:52.115776Z"
    }
   },
   "outputs": [],
   "source": [
    "import plotly.graph_objects as go"
   ]
  },
  {
   "cell_type": "code",
   "execution_count": 41,
   "metadata": {
    "ExecuteTime": {
     "end_time": "2020-10-05T13:07:52.536048Z",
     "start_time": "2020-10-05T13:07:52.289960Z"
    }
   },
   "outputs": [],
   "source": [
    "fig = go.Figure(data=go.Choropleth(\n",
    "    locations = df['code'],\n",
    "    z = df['count'],\n",
    "    text = df['Countries'],\n",
    "    colorscale = 'Blues',\n",
    "    autocolorscale=False,\n",
    "    reversescale=True,\n",
    "    marker_line_color='darkgray',\n",
    "    marker_line_width=0.5,\n",
    "    colorbar_tickprefix = '',\n",
    "    colorbar_title = 'Number of MICCAI 2015 Authors',\n",
    "))"
   ]
  },
  {
   "cell_type": "code",
   "execution_count": 42,
   "metadata": {
    "ExecuteTime": {
     "end_time": "2020-10-05T13:07:52.740427Z",
     "start_time": "2020-10-05T13:07:52.538096Z"
    }
   },
   "outputs": [
    {
     "data": {
      "application/vnd.plotly.v1+json": {
       "config": {
        "plotlyServerURL": "https://plot.ly"
       },
       "data": [
        {
         "autocolorscale": false,
         "colorbar": {
          "tickprefix": "",
          "title": {
           "text": "Number of MICCAI 2015 Authors"
          }
         },
         "colorscale": [
          [
           0,
           "rgb(247,251,255)"
          ],
          [
           0.125,
           "rgb(222,235,247)"
          ],
          [
           0.25,
           "rgb(198,219,239)"
          ],
          [
           0.375,
           "rgb(158,202,225)"
          ],
          [
           0.5,
           "rgb(107,174,214)"
          ],
          [
           0.625,
           "rgb(66,146,198)"
          ],
          [
           0.75,
           "rgb(33,113,181)"
          ],
          [
           0.875,
           "rgb(8,81,156)"
          ],
          [
           1,
           "rgb(8,48,107)"
          ]
         ],
         "locations": [
          "ARG",
          "AUS",
          "AUT",
          "BEL",
          "BRA",
          "CAN",
          "CHN",
          "COL",
          "CZE",
          "DNK",
          "FIN",
          "FRA",
          "DEU",
          "GRC",
          "HKG",
          "IND",
          "ISR",
          "ITA",
          "JPN",
          "LUX",
          "NLD",
          "NZL",
          "NOR",
          "PRT",
          " KOR",
          "ROU",
          "SGP",
          "SVN",
          "KOR",
          "ESP",
          "SWE",
          "CHE",
          "TUR",
          "GBR",
          "USA"
         ],
         "marker": {
          "line": {
           "color": "darkgray",
           "width": 0.5
          }
         },
         "reversescale": true,
         "text": [
          "Argentina",
          "Australia",
          "Austria",
          "Belgium",
          "Brazil",
          "Canada",
          "China",
          "Colombia",
          "Czech Republic",
          "Denmark",
          "Finland",
          "France",
          "Germany",
          "Greece",
          "Hong Kong",
          "India",
          "Israel",
          "Italy",
          "Japan",
          "Luxembourg",
          "Netherlands",
          "New Zealand",
          "Norway",
          "Portugal",
          "Republic of Korea",
          "Romania",
          "Singapore",
          "Slovenia",
          "South Korea",
          "Spain",
          "Sweden",
          "Switzerland",
          "Turkey",
          "United Kingdom",
          "United States"
         ],
         "type": "choropleth",
         "z": [
          1,
          29,
          12,
          9,
          8,
          88,
          47,
          4,
          1,
          11,
          5,
          75,
          129,
          2,
          9,
          16,
          16,
          19,
          19,
          4,
          25,
          4,
          1,
          1,
          3,
          2,
          25,
          4,
          4,
          6,
          4,
          31,
          5,
          161,
          331
         ]
        }
       ],
       "layout": {
        "annotations": [
         {
          "showarrow": false,
          "x": 0.55,
          "xref": "paper",
          "y": 0.1,
          "yref": "paper"
         }
        ],
        "geo": {
         "projection": {
          "type": "equirectangular"
         },
         "showcoastlines": false,
         "showframe": false
        },
        "template": {
         "data": {
          "bar": [
           {
            "error_x": {
             "color": "#2a3f5f"
            },
            "error_y": {
             "color": "#2a3f5f"
            },
            "marker": {
             "line": {
              "color": "#E5ECF6",
              "width": 0.5
             }
            },
            "type": "bar"
           }
          ],
          "barpolar": [
           {
            "marker": {
             "line": {
              "color": "#E5ECF6",
              "width": 0.5
             }
            },
            "type": "barpolar"
           }
          ],
          "carpet": [
           {
            "aaxis": {
             "endlinecolor": "#2a3f5f",
             "gridcolor": "white",
             "linecolor": "white",
             "minorgridcolor": "white",
             "startlinecolor": "#2a3f5f"
            },
            "baxis": {
             "endlinecolor": "#2a3f5f",
             "gridcolor": "white",
             "linecolor": "white",
             "minorgridcolor": "white",
             "startlinecolor": "#2a3f5f"
            },
            "type": "carpet"
           }
          ],
          "choropleth": [
           {
            "colorbar": {
             "outlinewidth": 0,
             "ticks": ""
            },
            "type": "choropleth"
           }
          ],
          "contour": [
           {
            "colorbar": {
             "outlinewidth": 0,
             "ticks": ""
            },
            "colorscale": [
             [
              0,
              "#0d0887"
             ],
             [
              0.1111111111111111,
              "#46039f"
             ],
             [
              0.2222222222222222,
              "#7201a8"
             ],
             [
              0.3333333333333333,
              "#9c179e"
             ],
             [
              0.4444444444444444,
              "#bd3786"
             ],
             [
              0.5555555555555556,
              "#d8576b"
             ],
             [
              0.6666666666666666,
              "#ed7953"
             ],
             [
              0.7777777777777778,
              "#fb9f3a"
             ],
             [
              0.8888888888888888,
              "#fdca26"
             ],
             [
              1,
              "#f0f921"
             ]
            ],
            "type": "contour"
           }
          ],
          "contourcarpet": [
           {
            "colorbar": {
             "outlinewidth": 0,
             "ticks": ""
            },
            "type": "contourcarpet"
           }
          ],
          "heatmap": [
           {
            "colorbar": {
             "outlinewidth": 0,
             "ticks": ""
            },
            "colorscale": [
             [
              0,
              "#0d0887"
             ],
             [
              0.1111111111111111,
              "#46039f"
             ],
             [
              0.2222222222222222,
              "#7201a8"
             ],
             [
              0.3333333333333333,
              "#9c179e"
             ],
             [
              0.4444444444444444,
              "#bd3786"
             ],
             [
              0.5555555555555556,
              "#d8576b"
             ],
             [
              0.6666666666666666,
              "#ed7953"
             ],
             [
              0.7777777777777778,
              "#fb9f3a"
             ],
             [
              0.8888888888888888,
              "#fdca26"
             ],
             [
              1,
              "#f0f921"
             ]
            ],
            "type": "heatmap"
           }
          ],
          "heatmapgl": [
           {
            "colorbar": {
             "outlinewidth": 0,
             "ticks": ""
            },
            "colorscale": [
             [
              0,
              "#0d0887"
             ],
             [
              0.1111111111111111,
              "#46039f"
             ],
             [
              0.2222222222222222,
              "#7201a8"
             ],
             [
              0.3333333333333333,
              "#9c179e"
             ],
             [
              0.4444444444444444,
              "#bd3786"
             ],
             [
              0.5555555555555556,
              "#d8576b"
             ],
             [
              0.6666666666666666,
              "#ed7953"
             ],
             [
              0.7777777777777778,
              "#fb9f3a"
             ],
             [
              0.8888888888888888,
              "#fdca26"
             ],
             [
              1,
              "#f0f921"
             ]
            ],
            "type": "heatmapgl"
           }
          ],
          "histogram": [
           {
            "marker": {
             "colorbar": {
              "outlinewidth": 0,
              "ticks": ""
             }
            },
            "type": "histogram"
           }
          ],
          "histogram2d": [
           {
            "colorbar": {
             "outlinewidth": 0,
             "ticks": ""
            },
            "colorscale": [
             [
              0,
              "#0d0887"
             ],
             [
              0.1111111111111111,
              "#46039f"
             ],
             [
              0.2222222222222222,
              "#7201a8"
             ],
             [
              0.3333333333333333,
              "#9c179e"
             ],
             [
              0.4444444444444444,
              "#bd3786"
             ],
             [
              0.5555555555555556,
              "#d8576b"
             ],
             [
              0.6666666666666666,
              "#ed7953"
             ],
             [
              0.7777777777777778,
              "#fb9f3a"
             ],
             [
              0.8888888888888888,
              "#fdca26"
             ],
             [
              1,
              "#f0f921"
             ]
            ],
            "type": "histogram2d"
           }
          ],
          "histogram2dcontour": [
           {
            "colorbar": {
             "outlinewidth": 0,
             "ticks": ""
            },
            "colorscale": [
             [
              0,
              "#0d0887"
             ],
             [
              0.1111111111111111,
              "#46039f"
             ],
             [
              0.2222222222222222,
              "#7201a8"
             ],
             [
              0.3333333333333333,
              "#9c179e"
             ],
             [
              0.4444444444444444,
              "#bd3786"
             ],
             [
              0.5555555555555556,
              "#d8576b"
             ],
             [
              0.6666666666666666,
              "#ed7953"
             ],
             [
              0.7777777777777778,
              "#fb9f3a"
             ],
             [
              0.8888888888888888,
              "#fdca26"
             ],
             [
              1,
              "#f0f921"
             ]
            ],
            "type": "histogram2dcontour"
           }
          ],
          "mesh3d": [
           {
            "colorbar": {
             "outlinewidth": 0,
             "ticks": ""
            },
            "type": "mesh3d"
           }
          ],
          "parcoords": [
           {
            "line": {
             "colorbar": {
              "outlinewidth": 0,
              "ticks": ""
             }
            },
            "type": "parcoords"
           }
          ],
          "pie": [
           {
            "automargin": true,
            "type": "pie"
           }
          ],
          "scatter": [
           {
            "marker": {
             "colorbar": {
              "outlinewidth": 0,
              "ticks": ""
             }
            },
            "type": "scatter"
           }
          ],
          "scatter3d": [
           {
            "line": {
             "colorbar": {
              "outlinewidth": 0,
              "ticks": ""
             }
            },
            "marker": {
             "colorbar": {
              "outlinewidth": 0,
              "ticks": ""
             }
            },
            "type": "scatter3d"
           }
          ],
          "scattercarpet": [
           {
            "marker": {
             "colorbar": {
              "outlinewidth": 0,
              "ticks": ""
             }
            },
            "type": "scattercarpet"
           }
          ],
          "scattergeo": [
           {
            "marker": {
             "colorbar": {
              "outlinewidth": 0,
              "ticks": ""
             }
            },
            "type": "scattergeo"
           }
          ],
          "scattergl": [
           {
            "marker": {
             "colorbar": {
              "outlinewidth": 0,
              "ticks": ""
             }
            },
            "type": "scattergl"
           }
          ],
          "scattermapbox": [
           {
            "marker": {
             "colorbar": {
              "outlinewidth": 0,
              "ticks": ""
             }
            },
            "type": "scattermapbox"
           }
          ],
          "scatterpolar": [
           {
            "marker": {
             "colorbar": {
              "outlinewidth": 0,
              "ticks": ""
             }
            },
            "type": "scatterpolar"
           }
          ],
          "scatterpolargl": [
           {
            "marker": {
             "colorbar": {
              "outlinewidth": 0,
              "ticks": ""
             }
            },
            "type": "scatterpolargl"
           }
          ],
          "scatterternary": [
           {
            "marker": {
             "colorbar": {
              "outlinewidth": 0,
              "ticks": ""
             }
            },
            "type": "scatterternary"
           }
          ],
          "surface": [
           {
            "colorbar": {
             "outlinewidth": 0,
             "ticks": ""
            },
            "colorscale": [
             [
              0,
              "#0d0887"
             ],
             [
              0.1111111111111111,
              "#46039f"
             ],
             [
              0.2222222222222222,
              "#7201a8"
             ],
             [
              0.3333333333333333,
              "#9c179e"
             ],
             [
              0.4444444444444444,
              "#bd3786"
             ],
             [
              0.5555555555555556,
              "#d8576b"
             ],
             [
              0.6666666666666666,
              "#ed7953"
             ],
             [
              0.7777777777777778,
              "#fb9f3a"
             ],
             [
              0.8888888888888888,
              "#fdca26"
             ],
             [
              1,
              "#f0f921"
             ]
            ],
            "type": "surface"
           }
          ],
          "table": [
           {
            "cells": {
             "fill": {
              "color": "#EBF0F8"
             },
             "line": {
              "color": "white"
             }
            },
            "header": {
             "fill": {
              "color": "#C8D4E3"
             },
             "line": {
              "color": "white"
             }
            },
            "type": "table"
           }
          ]
         },
         "layout": {
          "annotationdefaults": {
           "arrowcolor": "#2a3f5f",
           "arrowhead": 0,
           "arrowwidth": 1
          },
          "coloraxis": {
           "colorbar": {
            "outlinewidth": 0,
            "ticks": ""
           }
          },
          "colorscale": {
           "diverging": [
            [
             0,
             "#8e0152"
            ],
            [
             0.1,
             "#c51b7d"
            ],
            [
             0.2,
             "#de77ae"
            ],
            [
             0.3,
             "#f1b6da"
            ],
            [
             0.4,
             "#fde0ef"
            ],
            [
             0.5,
             "#f7f7f7"
            ],
            [
             0.6,
             "#e6f5d0"
            ],
            [
             0.7,
             "#b8e186"
            ],
            [
             0.8,
             "#7fbc41"
            ],
            [
             0.9,
             "#4d9221"
            ],
            [
             1,
             "#276419"
            ]
           ],
           "sequential": [
            [
             0,
             "#0d0887"
            ],
            [
             0.1111111111111111,
             "#46039f"
            ],
            [
             0.2222222222222222,
             "#7201a8"
            ],
            [
             0.3333333333333333,
             "#9c179e"
            ],
            [
             0.4444444444444444,
             "#bd3786"
            ],
            [
             0.5555555555555556,
             "#d8576b"
            ],
            [
             0.6666666666666666,
             "#ed7953"
            ],
            [
             0.7777777777777778,
             "#fb9f3a"
            ],
            [
             0.8888888888888888,
             "#fdca26"
            ],
            [
             1,
             "#f0f921"
            ]
           ],
           "sequentialminus": [
            [
             0,
             "#0d0887"
            ],
            [
             0.1111111111111111,
             "#46039f"
            ],
            [
             0.2222222222222222,
             "#7201a8"
            ],
            [
             0.3333333333333333,
             "#9c179e"
            ],
            [
             0.4444444444444444,
             "#bd3786"
            ],
            [
             0.5555555555555556,
             "#d8576b"
            ],
            [
             0.6666666666666666,
             "#ed7953"
            ],
            [
             0.7777777777777778,
             "#fb9f3a"
            ],
            [
             0.8888888888888888,
             "#fdca26"
            ],
            [
             1,
             "#f0f921"
            ]
           ]
          },
          "colorway": [
           "#636efa",
           "#EF553B",
           "#00cc96",
           "#ab63fa",
           "#FFA15A",
           "#19d3f3",
           "#FF6692",
           "#B6E880",
           "#FF97FF",
           "#FECB52"
          ],
          "font": {
           "color": "#2a3f5f"
          },
          "geo": {
           "bgcolor": "white",
           "lakecolor": "white",
           "landcolor": "#E5ECF6",
           "showlakes": true,
           "showland": true,
           "subunitcolor": "white"
          },
          "hoverlabel": {
           "align": "left"
          },
          "hovermode": "closest",
          "mapbox": {
           "style": "light"
          },
          "paper_bgcolor": "white",
          "plot_bgcolor": "#E5ECF6",
          "polar": {
           "angularaxis": {
            "gridcolor": "white",
            "linecolor": "white",
            "ticks": ""
           },
           "bgcolor": "#E5ECF6",
           "radialaxis": {
            "gridcolor": "white",
            "linecolor": "white",
            "ticks": ""
           }
          },
          "scene": {
           "xaxis": {
            "backgroundcolor": "#E5ECF6",
            "gridcolor": "white",
            "gridwidth": 2,
            "linecolor": "white",
            "showbackground": true,
            "ticks": "",
            "zerolinecolor": "white"
           },
           "yaxis": {
            "backgroundcolor": "#E5ECF6",
            "gridcolor": "white",
            "gridwidth": 2,
            "linecolor": "white",
            "showbackground": true,
            "ticks": "",
            "zerolinecolor": "white"
           },
           "zaxis": {
            "backgroundcolor": "#E5ECF6",
            "gridcolor": "white",
            "gridwidth": 2,
            "linecolor": "white",
            "showbackground": true,
            "ticks": "",
            "zerolinecolor": "white"
           }
          },
          "shapedefaults": {
           "line": {
            "color": "#2a3f5f"
           }
          },
          "ternary": {
           "aaxis": {
            "gridcolor": "white",
            "linecolor": "white",
            "ticks": ""
           },
           "baxis": {
            "gridcolor": "white",
            "linecolor": "white",
            "ticks": ""
           },
           "bgcolor": "#E5ECF6",
           "caxis": {
            "gridcolor": "white",
            "linecolor": "white",
            "ticks": ""
           }
          },
          "title": {
           "x": 0.05
          },
          "xaxis": {
           "automargin": true,
           "gridcolor": "white",
           "linecolor": "white",
           "ticks": "",
           "title": {
            "standoff": 15
           },
           "zerolinecolor": "white",
           "zerolinewidth": 2
          },
          "yaxis": {
           "automargin": true,
           "gridcolor": "white",
           "linecolor": "white",
           "ticks": "",
           "title": {
            "standoff": 15
           },
           "zerolinecolor": "white",
           "zerolinewidth": 2
          }
         }
        },
        "title": {
         "text": "2015 MICCAI Conference Authors Distribution"
        }
       }
      },
      "text/html": [
       "<div>\n",
       "        \n",
       "        \n",
       "            <div id=\"6c7996d0-3d79-4537-8ba9-ebdfab3d54cf\" class=\"plotly-graph-div\" style=\"height:525px; width:100%;\"></div>\n",
       "            <script type=\"text/javascript\">\n",
       "                require([\"plotly\"], function(Plotly) {\n",
       "                    window.PLOTLYENV=window.PLOTLYENV || {};\n",
       "                    \n",
       "                if (document.getElementById(\"6c7996d0-3d79-4537-8ba9-ebdfab3d54cf\")) {\n",
       "                    Plotly.newPlot(\n",
       "                        '6c7996d0-3d79-4537-8ba9-ebdfab3d54cf',\n",
       "                        [{\"autocolorscale\": false, \"colorbar\": {\"tickprefix\": \"\", \"title\": {\"text\": \"Number of MICCAI 2015 Authors\"}}, \"colorscale\": [[0.0, \"rgb(247,251,255)\"], [0.125, \"rgb(222,235,247)\"], [0.25, \"rgb(198,219,239)\"], [0.375, \"rgb(158,202,225)\"], [0.5, \"rgb(107,174,214)\"], [0.625, \"rgb(66,146,198)\"], [0.75, \"rgb(33,113,181)\"], [0.875, \"rgb(8,81,156)\"], [1.0, \"rgb(8,48,107)\"]], \"locations\": [\"ARG\", \"AUS\", \"AUT\", \"BEL\", \"BRA\", \"CAN\", \"CHN\", \"COL\", \"CZE\", \"DNK\", \"FIN\", \"FRA\", \"DEU\", \"GRC\", \"HKG\", \"IND\", \"ISR\", \"ITA\", \"JPN\", \"LUX\", \"NLD\", \"NZL\", \"NOR\", \"PRT\", \" KOR\", \"ROU\", \"SGP\", \"SVN\", \"KOR\", \"ESP\", \"SWE\", \"CHE\", \"TUR\", \"GBR\", \"USA\"], \"marker\": {\"line\": {\"color\": \"darkgray\", \"width\": 0.5}}, \"reversescale\": true, \"text\": [\"Argentina\", \"Australia\", \"Austria\", \"Belgium\", \"Brazil\", \"Canada\", \"China\", \"Colombia\", \"Czech Republic\", \"Denmark\", \"Finland\", \"France\", \"Germany\", \"Greece\", \"Hong Kong\", \"India\", \"Israel\", \"Italy\", \"Japan\", \"Luxembourg\", \"Netherlands\", \"New Zealand\", \"Norway\", \"Portugal\", \"Republic of Korea\", \"Romania\", \"Singapore\", \"Slovenia\", \"South Korea\", \"Spain\", \"Sweden\", \"Switzerland\", \"Turkey\", \"United Kingdom\", \"United States\"], \"type\": \"choropleth\", \"z\": [1, 29, 12, 9, 8, 88, 47, 4, 1, 11, 5, 75, 129, 2, 9, 16, 16, 19, 19, 4, 25, 4, 1, 1, 3, 2, 25, 4, 4, 6, 4, 31, 5, 161, 331]}],\n",
       "                        {\"annotations\": [{\"showarrow\": false, \"x\": 0.55, \"xref\": \"paper\", \"y\": 0.1, \"yref\": \"paper\"}], \"geo\": {\"projection\": {\"type\": \"equirectangular\"}, \"showcoastlines\": false, \"showframe\": false}, \"template\": {\"data\": {\"bar\": [{\"error_x\": {\"color\": \"#2a3f5f\"}, \"error_y\": {\"color\": \"#2a3f5f\"}, \"marker\": {\"line\": {\"color\": \"#E5ECF6\", \"width\": 0.5}}, \"type\": \"bar\"}], \"barpolar\": [{\"marker\": {\"line\": {\"color\": \"#E5ECF6\", \"width\": 0.5}}, \"type\": \"barpolar\"}], \"carpet\": [{\"aaxis\": {\"endlinecolor\": \"#2a3f5f\", \"gridcolor\": \"white\", \"linecolor\": \"white\", \"minorgridcolor\": \"white\", \"startlinecolor\": \"#2a3f5f\"}, \"baxis\": {\"endlinecolor\": \"#2a3f5f\", \"gridcolor\": \"white\", \"linecolor\": \"white\", \"minorgridcolor\": \"white\", \"startlinecolor\": \"#2a3f5f\"}, \"type\": \"carpet\"}], \"choropleth\": [{\"colorbar\": {\"outlinewidth\": 0, \"ticks\": \"\"}, \"type\": \"choropleth\"}], \"contour\": [{\"colorbar\": {\"outlinewidth\": 0, \"ticks\": \"\"}, \"colorscale\": [[0.0, \"#0d0887\"], [0.1111111111111111, \"#46039f\"], [0.2222222222222222, \"#7201a8\"], [0.3333333333333333, \"#9c179e\"], [0.4444444444444444, \"#bd3786\"], [0.5555555555555556, \"#d8576b\"], [0.6666666666666666, \"#ed7953\"], [0.7777777777777778, \"#fb9f3a\"], [0.8888888888888888, \"#fdca26\"], [1.0, \"#f0f921\"]], \"type\": \"contour\"}], \"contourcarpet\": [{\"colorbar\": {\"outlinewidth\": 0, \"ticks\": \"\"}, \"type\": \"contourcarpet\"}], \"heatmap\": [{\"colorbar\": {\"outlinewidth\": 0, \"ticks\": \"\"}, \"colorscale\": [[0.0, \"#0d0887\"], [0.1111111111111111, \"#46039f\"], [0.2222222222222222, \"#7201a8\"], [0.3333333333333333, \"#9c179e\"], [0.4444444444444444, \"#bd3786\"], [0.5555555555555556, \"#d8576b\"], [0.6666666666666666, \"#ed7953\"], [0.7777777777777778, \"#fb9f3a\"], [0.8888888888888888, \"#fdca26\"], [1.0, \"#f0f921\"]], \"type\": \"heatmap\"}], \"heatmapgl\": [{\"colorbar\": {\"outlinewidth\": 0, \"ticks\": \"\"}, \"colorscale\": [[0.0, \"#0d0887\"], [0.1111111111111111, \"#46039f\"], [0.2222222222222222, \"#7201a8\"], [0.3333333333333333, \"#9c179e\"], [0.4444444444444444, \"#bd3786\"], [0.5555555555555556, \"#d8576b\"], [0.6666666666666666, \"#ed7953\"], [0.7777777777777778, \"#fb9f3a\"], [0.8888888888888888, \"#fdca26\"], [1.0, \"#f0f921\"]], \"type\": \"heatmapgl\"}], \"histogram\": [{\"marker\": {\"colorbar\": {\"outlinewidth\": 0, \"ticks\": \"\"}}, \"type\": \"histogram\"}], \"histogram2d\": [{\"colorbar\": {\"outlinewidth\": 0, \"ticks\": \"\"}, \"colorscale\": [[0.0, \"#0d0887\"], [0.1111111111111111, \"#46039f\"], [0.2222222222222222, \"#7201a8\"], [0.3333333333333333, \"#9c179e\"], [0.4444444444444444, \"#bd3786\"], [0.5555555555555556, \"#d8576b\"], [0.6666666666666666, \"#ed7953\"], [0.7777777777777778, \"#fb9f3a\"], [0.8888888888888888, \"#fdca26\"], [1.0, \"#f0f921\"]], \"type\": \"histogram2d\"}], \"histogram2dcontour\": [{\"colorbar\": {\"outlinewidth\": 0, \"ticks\": \"\"}, \"colorscale\": [[0.0, \"#0d0887\"], [0.1111111111111111, \"#46039f\"], [0.2222222222222222, \"#7201a8\"], [0.3333333333333333, \"#9c179e\"], [0.4444444444444444, \"#bd3786\"], [0.5555555555555556, \"#d8576b\"], [0.6666666666666666, \"#ed7953\"], [0.7777777777777778, \"#fb9f3a\"], [0.8888888888888888, \"#fdca26\"], [1.0, \"#f0f921\"]], \"type\": \"histogram2dcontour\"}], \"mesh3d\": [{\"colorbar\": {\"outlinewidth\": 0, \"ticks\": \"\"}, \"type\": \"mesh3d\"}], \"parcoords\": [{\"line\": {\"colorbar\": {\"outlinewidth\": 0, \"ticks\": \"\"}}, \"type\": \"parcoords\"}], \"pie\": [{\"automargin\": true, \"type\": \"pie\"}], \"scatter\": [{\"marker\": {\"colorbar\": {\"outlinewidth\": 0, \"ticks\": \"\"}}, \"type\": \"scatter\"}], \"scatter3d\": [{\"line\": {\"colorbar\": {\"outlinewidth\": 0, \"ticks\": \"\"}}, \"marker\": {\"colorbar\": {\"outlinewidth\": 0, \"ticks\": \"\"}}, \"type\": \"scatter3d\"}], \"scattercarpet\": [{\"marker\": {\"colorbar\": {\"outlinewidth\": 0, \"ticks\": \"\"}}, \"type\": \"scattercarpet\"}], \"scattergeo\": [{\"marker\": {\"colorbar\": {\"outlinewidth\": 0, \"ticks\": \"\"}}, \"type\": \"scattergeo\"}], \"scattergl\": [{\"marker\": {\"colorbar\": {\"outlinewidth\": 0, \"ticks\": \"\"}}, \"type\": \"scattergl\"}], \"scattermapbox\": [{\"marker\": {\"colorbar\": {\"outlinewidth\": 0, \"ticks\": \"\"}}, \"type\": \"scattermapbox\"}], \"scatterpolar\": [{\"marker\": {\"colorbar\": {\"outlinewidth\": 0, \"ticks\": \"\"}}, \"type\": \"scatterpolar\"}], \"scatterpolargl\": [{\"marker\": {\"colorbar\": {\"outlinewidth\": 0, \"ticks\": \"\"}}, \"type\": \"scatterpolargl\"}], \"scatterternary\": [{\"marker\": {\"colorbar\": {\"outlinewidth\": 0, \"ticks\": \"\"}}, \"type\": \"scatterternary\"}], \"surface\": [{\"colorbar\": {\"outlinewidth\": 0, \"ticks\": \"\"}, \"colorscale\": [[0.0, \"#0d0887\"], [0.1111111111111111, \"#46039f\"], [0.2222222222222222, \"#7201a8\"], [0.3333333333333333, \"#9c179e\"], [0.4444444444444444, \"#bd3786\"], [0.5555555555555556, \"#d8576b\"], [0.6666666666666666, \"#ed7953\"], [0.7777777777777778, \"#fb9f3a\"], [0.8888888888888888, \"#fdca26\"], [1.0, \"#f0f921\"]], \"type\": \"surface\"}], \"table\": [{\"cells\": {\"fill\": {\"color\": \"#EBF0F8\"}, \"line\": {\"color\": \"white\"}}, \"header\": {\"fill\": {\"color\": \"#C8D4E3\"}, \"line\": {\"color\": \"white\"}}, \"type\": \"table\"}]}, \"layout\": {\"annotationdefaults\": {\"arrowcolor\": \"#2a3f5f\", \"arrowhead\": 0, \"arrowwidth\": 1}, \"coloraxis\": {\"colorbar\": {\"outlinewidth\": 0, \"ticks\": \"\"}}, \"colorscale\": {\"diverging\": [[0, \"#8e0152\"], [0.1, \"#c51b7d\"], [0.2, \"#de77ae\"], [0.3, \"#f1b6da\"], [0.4, \"#fde0ef\"], [0.5, \"#f7f7f7\"], [0.6, \"#e6f5d0\"], [0.7, \"#b8e186\"], [0.8, \"#7fbc41\"], [0.9, \"#4d9221\"], [1, \"#276419\"]], \"sequential\": [[0.0, \"#0d0887\"], [0.1111111111111111, \"#46039f\"], [0.2222222222222222, \"#7201a8\"], [0.3333333333333333, \"#9c179e\"], [0.4444444444444444, \"#bd3786\"], [0.5555555555555556, \"#d8576b\"], [0.6666666666666666, \"#ed7953\"], [0.7777777777777778, \"#fb9f3a\"], [0.8888888888888888, \"#fdca26\"], [1.0, \"#f0f921\"]], \"sequentialminus\": [[0.0, \"#0d0887\"], [0.1111111111111111, \"#46039f\"], [0.2222222222222222, \"#7201a8\"], [0.3333333333333333, \"#9c179e\"], [0.4444444444444444, \"#bd3786\"], [0.5555555555555556, \"#d8576b\"], [0.6666666666666666, \"#ed7953\"], [0.7777777777777778, \"#fb9f3a\"], [0.8888888888888888, \"#fdca26\"], [1.0, \"#f0f921\"]]}, \"colorway\": [\"#636efa\", \"#EF553B\", \"#00cc96\", \"#ab63fa\", \"#FFA15A\", \"#19d3f3\", \"#FF6692\", \"#B6E880\", \"#FF97FF\", \"#FECB52\"], \"font\": {\"color\": \"#2a3f5f\"}, \"geo\": {\"bgcolor\": \"white\", \"lakecolor\": \"white\", \"landcolor\": \"#E5ECF6\", \"showlakes\": true, \"showland\": true, \"subunitcolor\": \"white\"}, \"hoverlabel\": {\"align\": \"left\"}, \"hovermode\": \"closest\", \"mapbox\": {\"style\": \"light\"}, \"paper_bgcolor\": \"white\", \"plot_bgcolor\": \"#E5ECF6\", \"polar\": {\"angularaxis\": {\"gridcolor\": \"white\", \"linecolor\": \"white\", \"ticks\": \"\"}, \"bgcolor\": \"#E5ECF6\", \"radialaxis\": {\"gridcolor\": \"white\", \"linecolor\": \"white\", \"ticks\": \"\"}}, \"scene\": {\"xaxis\": {\"backgroundcolor\": \"#E5ECF6\", \"gridcolor\": \"white\", \"gridwidth\": 2, \"linecolor\": \"white\", \"showbackground\": true, \"ticks\": \"\", \"zerolinecolor\": \"white\"}, \"yaxis\": {\"backgroundcolor\": \"#E5ECF6\", \"gridcolor\": \"white\", \"gridwidth\": 2, \"linecolor\": \"white\", \"showbackground\": true, \"ticks\": \"\", \"zerolinecolor\": \"white\"}, \"zaxis\": {\"backgroundcolor\": \"#E5ECF6\", \"gridcolor\": \"white\", \"gridwidth\": 2, \"linecolor\": \"white\", \"showbackground\": true, \"ticks\": \"\", \"zerolinecolor\": \"white\"}}, \"shapedefaults\": {\"line\": {\"color\": \"#2a3f5f\"}}, \"ternary\": {\"aaxis\": {\"gridcolor\": \"white\", \"linecolor\": \"white\", \"ticks\": \"\"}, \"baxis\": {\"gridcolor\": \"white\", \"linecolor\": \"white\", \"ticks\": \"\"}, \"bgcolor\": \"#E5ECF6\", \"caxis\": {\"gridcolor\": \"white\", \"linecolor\": \"white\", \"ticks\": \"\"}}, \"title\": {\"x\": 0.05}, \"xaxis\": {\"automargin\": true, \"gridcolor\": \"white\", \"linecolor\": \"white\", \"ticks\": \"\", \"title\": {\"standoff\": 15}, \"zerolinecolor\": \"white\", \"zerolinewidth\": 2}, \"yaxis\": {\"automargin\": true, \"gridcolor\": \"white\", \"linecolor\": \"white\", \"ticks\": \"\", \"title\": {\"standoff\": 15}, \"zerolinecolor\": \"white\", \"zerolinewidth\": 2}}}, \"title\": {\"text\": \"2015 MICCAI Conference Authors Distribution\"}},\n",
       "                        {\"responsive\": true}\n",
       "                    ).then(function(){\n",
       "                            \n",
       "var gd = document.getElementById('6c7996d0-3d79-4537-8ba9-ebdfab3d54cf');\n",
       "var x = new MutationObserver(function (mutations, observer) {{\n",
       "        var display = window.getComputedStyle(gd).display;\n",
       "        if (!display || display === 'none') {{\n",
       "            console.log([gd, 'removed!']);\n",
       "            Plotly.purge(gd);\n",
       "            observer.disconnect();\n",
       "        }}\n",
       "}});\n",
       "\n",
       "// Listen for the removal of the full notebook cells\n",
       "var notebookContainer = gd.closest('#notebook-container');\n",
       "if (notebookContainer) {{\n",
       "    x.observe(notebookContainer, {childList: true});\n",
       "}}\n",
       "\n",
       "// Listen for the clearing of the current output cell\n",
       "var outputEl = gd.closest('.output');\n",
       "if (outputEl) {{\n",
       "    x.observe(outputEl, {childList: true});\n",
       "}}\n",
       "\n",
       "                        })\n",
       "                };\n",
       "                });\n",
       "            </script>\n",
       "        </div>"
      ]
     },
     "metadata": {},
     "output_type": "display_data"
    }
   ],
   "source": [
    "fig.update_layout(\n",
    "    title_text='2015 MICCAI Conference Authors Distribution',\n",
    "    geo=dict(\n",
    "        showframe=False,\n",
    "        showcoastlines=False,\n",
    "        projection_type='equirectangular'\n",
    "    ),\n",
    "    annotations = [dict(\n",
    "        x=0.55,\n",
    "        y=0.1,\n",
    "        xref='paper',\n",
    "        yref='paper',\n",
    "        showarrow = False\n",
    "    )]\n",
    ")\n",
    "\n",
    "fig.show()"
   ]
  },
  {
   "cell_type": "code",
   "execution_count": 43,
   "metadata": {
    "ExecuteTime": {
     "end_time": "2020-10-05T13:07:53.029443Z",
     "start_time": "2020-10-05T13:07:52.742080Z"
    }
   },
   "outputs": [],
   "source": [
    "import plotly.express as px\n",
    "from plotly.subplots import make_subplots"
   ]
  },
  {
   "cell_type": "code",
   "execution_count": 44,
   "metadata": {
    "ExecuteTime": {
     "end_time": "2020-10-05T13:07:53.736598Z",
     "start_time": "2020-10-05T13:07:53.030488Z"
    }
   },
   "outputs": [
    {
     "data": {
      "application/vnd.plotly.v1+json": {
       "config": {
        "plotlyServerURL": "https://plot.ly"
       },
       "data": [
        {
         "alignmentgroup": "True",
         "hovertemplate": "count=%{x}<br>Countries=%{y}<extra></extra>",
         "legendgroup": "",
         "marker": {
          "color": "#636efa"
         },
         "name": "",
         "offsetgroup": "",
         "orientation": "h",
         "showlegend": false,
         "textposition": "auto",
         "type": "bar",
         "x": [
          1,
          29,
          12,
          9,
          8,
          88,
          47,
          4,
          1,
          11,
          5,
          75,
          129,
          2,
          9,
          16,
          16,
          19,
          19,
          4,
          25,
          4,
          1,
          1,
          3,
          2,
          25,
          4,
          4,
          6,
          4,
          31,
          5,
          161,
          331
         ],
         "xaxis": "x",
         "y": [
          "Argentina",
          "Australia",
          "Austria",
          "Belgium",
          "Brazil",
          "Canada",
          "China",
          "Colombia",
          "Czech Republic",
          "Denmark",
          "Finland",
          "France",
          "Germany",
          "Greece",
          "Hong Kong",
          "India",
          "Israel",
          "Italy",
          "Japan",
          "Luxembourg",
          "Netherlands",
          "New Zealand",
          "Norway",
          "Portugal",
          "Republic of Korea",
          "Romania",
          "Singapore",
          "Slovenia",
          "South Korea",
          "Spain",
          "Sweden",
          "Switzerland",
          "Turkey",
          "United Kingdom",
          "United States"
         ],
         "yaxis": "y"
        }
       ],
       "layout": {
        "barmode": "stack",
        "legend": {
         "tracegroupgap": 0
        },
        "margin": {
         "t": 60
        },
        "template": {
         "data": {
          "bar": [
           {
            "error_x": {
             "color": "#2a3f5f"
            },
            "error_y": {
             "color": "#2a3f5f"
            },
            "marker": {
             "line": {
              "color": "#E5ECF6",
              "width": 0.5
             }
            },
            "type": "bar"
           }
          ],
          "barpolar": [
           {
            "marker": {
             "line": {
              "color": "#E5ECF6",
              "width": 0.5
             }
            },
            "type": "barpolar"
           }
          ],
          "carpet": [
           {
            "aaxis": {
             "endlinecolor": "#2a3f5f",
             "gridcolor": "white",
             "linecolor": "white",
             "minorgridcolor": "white",
             "startlinecolor": "#2a3f5f"
            },
            "baxis": {
             "endlinecolor": "#2a3f5f",
             "gridcolor": "white",
             "linecolor": "white",
             "minorgridcolor": "white",
             "startlinecolor": "#2a3f5f"
            },
            "type": "carpet"
           }
          ],
          "choropleth": [
           {
            "colorbar": {
             "outlinewidth": 0,
             "ticks": ""
            },
            "type": "choropleth"
           }
          ],
          "contour": [
           {
            "colorbar": {
             "outlinewidth": 0,
             "ticks": ""
            },
            "colorscale": [
             [
              0,
              "#0d0887"
             ],
             [
              0.1111111111111111,
              "#46039f"
             ],
             [
              0.2222222222222222,
              "#7201a8"
             ],
             [
              0.3333333333333333,
              "#9c179e"
             ],
             [
              0.4444444444444444,
              "#bd3786"
             ],
             [
              0.5555555555555556,
              "#d8576b"
             ],
             [
              0.6666666666666666,
              "#ed7953"
             ],
             [
              0.7777777777777778,
              "#fb9f3a"
             ],
             [
              0.8888888888888888,
              "#fdca26"
             ],
             [
              1,
              "#f0f921"
             ]
            ],
            "type": "contour"
           }
          ],
          "contourcarpet": [
           {
            "colorbar": {
             "outlinewidth": 0,
             "ticks": ""
            },
            "type": "contourcarpet"
           }
          ],
          "heatmap": [
           {
            "colorbar": {
             "outlinewidth": 0,
             "ticks": ""
            },
            "colorscale": [
             [
              0,
              "#0d0887"
             ],
             [
              0.1111111111111111,
              "#46039f"
             ],
             [
              0.2222222222222222,
              "#7201a8"
             ],
             [
              0.3333333333333333,
              "#9c179e"
             ],
             [
              0.4444444444444444,
              "#bd3786"
             ],
             [
              0.5555555555555556,
              "#d8576b"
             ],
             [
              0.6666666666666666,
              "#ed7953"
             ],
             [
              0.7777777777777778,
              "#fb9f3a"
             ],
             [
              0.8888888888888888,
              "#fdca26"
             ],
             [
              1,
              "#f0f921"
             ]
            ],
            "type": "heatmap"
           }
          ],
          "heatmapgl": [
           {
            "colorbar": {
             "outlinewidth": 0,
             "ticks": ""
            },
            "colorscale": [
             [
              0,
              "#0d0887"
             ],
             [
              0.1111111111111111,
              "#46039f"
             ],
             [
              0.2222222222222222,
              "#7201a8"
             ],
             [
              0.3333333333333333,
              "#9c179e"
             ],
             [
              0.4444444444444444,
              "#bd3786"
             ],
             [
              0.5555555555555556,
              "#d8576b"
             ],
             [
              0.6666666666666666,
              "#ed7953"
             ],
             [
              0.7777777777777778,
              "#fb9f3a"
             ],
             [
              0.8888888888888888,
              "#fdca26"
             ],
             [
              1,
              "#f0f921"
             ]
            ],
            "type": "heatmapgl"
           }
          ],
          "histogram": [
           {
            "marker": {
             "colorbar": {
              "outlinewidth": 0,
              "ticks": ""
             }
            },
            "type": "histogram"
           }
          ],
          "histogram2d": [
           {
            "colorbar": {
             "outlinewidth": 0,
             "ticks": ""
            },
            "colorscale": [
             [
              0,
              "#0d0887"
             ],
             [
              0.1111111111111111,
              "#46039f"
             ],
             [
              0.2222222222222222,
              "#7201a8"
             ],
             [
              0.3333333333333333,
              "#9c179e"
             ],
             [
              0.4444444444444444,
              "#bd3786"
             ],
             [
              0.5555555555555556,
              "#d8576b"
             ],
             [
              0.6666666666666666,
              "#ed7953"
             ],
             [
              0.7777777777777778,
              "#fb9f3a"
             ],
             [
              0.8888888888888888,
              "#fdca26"
             ],
             [
              1,
              "#f0f921"
             ]
            ],
            "type": "histogram2d"
           }
          ],
          "histogram2dcontour": [
           {
            "colorbar": {
             "outlinewidth": 0,
             "ticks": ""
            },
            "colorscale": [
             [
              0,
              "#0d0887"
             ],
             [
              0.1111111111111111,
              "#46039f"
             ],
             [
              0.2222222222222222,
              "#7201a8"
             ],
             [
              0.3333333333333333,
              "#9c179e"
             ],
             [
              0.4444444444444444,
              "#bd3786"
             ],
             [
              0.5555555555555556,
              "#d8576b"
             ],
             [
              0.6666666666666666,
              "#ed7953"
             ],
             [
              0.7777777777777778,
              "#fb9f3a"
             ],
             [
              0.8888888888888888,
              "#fdca26"
             ],
             [
              1,
              "#f0f921"
             ]
            ],
            "type": "histogram2dcontour"
           }
          ],
          "mesh3d": [
           {
            "colorbar": {
             "outlinewidth": 0,
             "ticks": ""
            },
            "type": "mesh3d"
           }
          ],
          "parcoords": [
           {
            "line": {
             "colorbar": {
              "outlinewidth": 0,
              "ticks": ""
             }
            },
            "type": "parcoords"
           }
          ],
          "pie": [
           {
            "automargin": true,
            "type": "pie"
           }
          ],
          "scatter": [
           {
            "marker": {
             "colorbar": {
              "outlinewidth": 0,
              "ticks": ""
             }
            },
            "type": "scatter"
           }
          ],
          "scatter3d": [
           {
            "line": {
             "colorbar": {
              "outlinewidth": 0,
              "ticks": ""
             }
            },
            "marker": {
             "colorbar": {
              "outlinewidth": 0,
              "ticks": ""
             }
            },
            "type": "scatter3d"
           }
          ],
          "scattercarpet": [
           {
            "marker": {
             "colorbar": {
              "outlinewidth": 0,
              "ticks": ""
             }
            },
            "type": "scattercarpet"
           }
          ],
          "scattergeo": [
           {
            "marker": {
             "colorbar": {
              "outlinewidth": 0,
              "ticks": ""
             }
            },
            "type": "scattergeo"
           }
          ],
          "scattergl": [
           {
            "marker": {
             "colorbar": {
              "outlinewidth": 0,
              "ticks": ""
             }
            },
            "type": "scattergl"
           }
          ],
          "scattermapbox": [
           {
            "marker": {
             "colorbar": {
              "outlinewidth": 0,
              "ticks": ""
             }
            },
            "type": "scattermapbox"
           }
          ],
          "scatterpolar": [
           {
            "marker": {
             "colorbar": {
              "outlinewidth": 0,
              "ticks": ""
             }
            },
            "type": "scatterpolar"
           }
          ],
          "scatterpolargl": [
           {
            "marker": {
             "colorbar": {
              "outlinewidth": 0,
              "ticks": ""
             }
            },
            "type": "scatterpolargl"
           }
          ],
          "scatterternary": [
           {
            "marker": {
             "colorbar": {
              "outlinewidth": 0,
              "ticks": ""
             }
            },
            "type": "scatterternary"
           }
          ],
          "surface": [
           {
            "colorbar": {
             "outlinewidth": 0,
             "ticks": ""
            },
            "colorscale": [
             [
              0,
              "#0d0887"
             ],
             [
              0.1111111111111111,
              "#46039f"
             ],
             [
              0.2222222222222222,
              "#7201a8"
             ],
             [
              0.3333333333333333,
              "#9c179e"
             ],
             [
              0.4444444444444444,
              "#bd3786"
             ],
             [
              0.5555555555555556,
              "#d8576b"
             ],
             [
              0.6666666666666666,
              "#ed7953"
             ],
             [
              0.7777777777777778,
              "#fb9f3a"
             ],
             [
              0.8888888888888888,
              "#fdca26"
             ],
             [
              1,
              "#f0f921"
             ]
            ],
            "type": "surface"
           }
          ],
          "table": [
           {
            "cells": {
             "fill": {
              "color": "#EBF0F8"
             },
             "line": {
              "color": "white"
             }
            },
            "header": {
             "fill": {
              "color": "#C8D4E3"
             },
             "line": {
              "color": "white"
             }
            },
            "type": "table"
           }
          ]
         },
         "layout": {
          "annotationdefaults": {
           "arrowcolor": "#2a3f5f",
           "arrowhead": 0,
           "arrowwidth": 1
          },
          "coloraxis": {
           "colorbar": {
            "outlinewidth": 0,
            "ticks": ""
           }
          },
          "colorscale": {
           "diverging": [
            [
             0,
             "#8e0152"
            ],
            [
             0.1,
             "#c51b7d"
            ],
            [
             0.2,
             "#de77ae"
            ],
            [
             0.3,
             "#f1b6da"
            ],
            [
             0.4,
             "#fde0ef"
            ],
            [
             0.5,
             "#f7f7f7"
            ],
            [
             0.6,
             "#e6f5d0"
            ],
            [
             0.7,
             "#b8e186"
            ],
            [
             0.8,
             "#7fbc41"
            ],
            [
             0.9,
             "#4d9221"
            ],
            [
             1,
             "#276419"
            ]
           ],
           "sequential": [
            [
             0,
             "#0d0887"
            ],
            [
             0.1111111111111111,
             "#46039f"
            ],
            [
             0.2222222222222222,
             "#7201a8"
            ],
            [
             0.3333333333333333,
             "#9c179e"
            ],
            [
             0.4444444444444444,
             "#bd3786"
            ],
            [
             0.5555555555555556,
             "#d8576b"
            ],
            [
             0.6666666666666666,
             "#ed7953"
            ],
            [
             0.7777777777777778,
             "#fb9f3a"
            ],
            [
             0.8888888888888888,
             "#fdca26"
            ],
            [
             1,
             "#f0f921"
            ]
           ],
           "sequentialminus": [
            [
             0,
             "#0d0887"
            ],
            [
             0.1111111111111111,
             "#46039f"
            ],
            [
             0.2222222222222222,
             "#7201a8"
            ],
            [
             0.3333333333333333,
             "#9c179e"
            ],
            [
             0.4444444444444444,
             "#bd3786"
            ],
            [
             0.5555555555555556,
             "#d8576b"
            ],
            [
             0.6666666666666666,
             "#ed7953"
            ],
            [
             0.7777777777777778,
             "#fb9f3a"
            ],
            [
             0.8888888888888888,
             "#fdca26"
            ],
            [
             1,
             "#f0f921"
            ]
           ]
          },
          "colorway": [
           "#636efa",
           "#EF553B",
           "#00cc96",
           "#ab63fa",
           "#FFA15A",
           "#19d3f3",
           "#FF6692",
           "#B6E880",
           "#FF97FF",
           "#FECB52"
          ],
          "font": {
           "color": "#2a3f5f"
          },
          "geo": {
           "bgcolor": "white",
           "lakecolor": "white",
           "landcolor": "#E5ECF6",
           "showlakes": true,
           "showland": true,
           "subunitcolor": "white"
          },
          "hoverlabel": {
           "align": "left"
          },
          "hovermode": "closest",
          "mapbox": {
           "style": "light"
          },
          "paper_bgcolor": "white",
          "plot_bgcolor": "#E5ECF6",
          "polar": {
           "angularaxis": {
            "gridcolor": "white",
            "linecolor": "white",
            "ticks": ""
           },
           "bgcolor": "#E5ECF6",
           "radialaxis": {
            "gridcolor": "white",
            "linecolor": "white",
            "ticks": ""
           }
          },
          "scene": {
           "xaxis": {
            "backgroundcolor": "#E5ECF6",
            "gridcolor": "white",
            "gridwidth": 2,
            "linecolor": "white",
            "showbackground": true,
            "ticks": "",
            "zerolinecolor": "white"
           },
           "yaxis": {
            "backgroundcolor": "#E5ECF6",
            "gridcolor": "white",
            "gridwidth": 2,
            "linecolor": "white",
            "showbackground": true,
            "ticks": "",
            "zerolinecolor": "white"
           },
           "zaxis": {
            "backgroundcolor": "#E5ECF6",
            "gridcolor": "white",
            "gridwidth": 2,
            "linecolor": "white",
            "showbackground": true,
            "ticks": "",
            "zerolinecolor": "white"
           }
          },
          "shapedefaults": {
           "line": {
            "color": "#2a3f5f"
           }
          },
          "ternary": {
           "aaxis": {
            "gridcolor": "white",
            "linecolor": "white",
            "ticks": ""
           },
           "baxis": {
            "gridcolor": "white",
            "linecolor": "white",
            "ticks": ""
           },
           "bgcolor": "#E5ECF6",
           "caxis": {
            "gridcolor": "white",
            "linecolor": "white",
            "ticks": ""
           }
          },
          "title": {
           "x": 0.05
          },
          "xaxis": {
           "automargin": true,
           "gridcolor": "white",
           "linecolor": "white",
           "ticks": "",
           "title": {
            "standoff": 15
           },
           "zerolinecolor": "white",
           "zerolinewidth": 2
          },
          "yaxis": {
           "automargin": true,
           "gridcolor": "white",
           "linecolor": "white",
           "ticks": "",
           "title": {
            "standoff": 15
           },
           "zerolinecolor": "white",
           "zerolinewidth": 2
          }
         }
        },
        "xaxis": {
         "anchor": "y",
         "domain": [
          0,
          1
         ],
         "title": {
          "text": "count"
         }
        },
        "yaxis": {
         "anchor": "x",
         "categoryorder": "total ascending",
         "domain": [
          0,
          1
         ],
         "title": {
          "text": "Countries"
         }
        }
       }
      },
      "text/html": [
       "<div>\n",
       "        \n",
       "        \n",
       "            <div id=\"266509e7-0aab-45b0-9e59-78882e323323\" class=\"plotly-graph-div\" style=\"height:525px; width:100%;\"></div>\n",
       "            <script type=\"text/javascript\">\n",
       "                require([\"plotly\"], function(Plotly) {\n",
       "                    window.PLOTLYENV=window.PLOTLYENV || {};\n",
       "                    \n",
       "                if (document.getElementById(\"266509e7-0aab-45b0-9e59-78882e323323\")) {\n",
       "                    Plotly.newPlot(\n",
       "                        '266509e7-0aab-45b0-9e59-78882e323323',\n",
       "                        [{\"alignmentgroup\": \"True\", \"hovertemplate\": \"count=%{x}<br>Countries=%{y}<extra></extra>\", \"legendgroup\": \"\", \"marker\": {\"color\": \"#636efa\"}, \"name\": \"\", \"offsetgroup\": \"\", \"orientation\": \"h\", \"showlegend\": false, \"textposition\": \"auto\", \"type\": \"bar\", \"x\": [1, 29, 12, 9, 8, 88, 47, 4, 1, 11, 5, 75, 129, 2, 9, 16, 16, 19, 19, 4, 25, 4, 1, 1, 3, 2, 25, 4, 4, 6, 4, 31, 5, 161, 331], \"xaxis\": \"x\", \"y\": [\"Argentina\", \"Australia\", \"Austria\", \"Belgium\", \"Brazil\", \"Canada\", \"China\", \"Colombia\", \"Czech Republic\", \"Denmark\", \"Finland\", \"France\", \"Germany\", \"Greece\", \"Hong Kong\", \"India\", \"Israel\", \"Italy\", \"Japan\", \"Luxembourg\", \"Netherlands\", \"New Zealand\", \"Norway\", \"Portugal\", \"Republic of Korea\", \"Romania\", \"Singapore\", \"Slovenia\", \"South Korea\", \"Spain\", \"Sweden\", \"Switzerland\", \"Turkey\", \"United Kingdom\", \"United States\"], \"yaxis\": \"y\"}],\n",
       "                        {\"barmode\": \"stack\", \"legend\": {\"tracegroupgap\": 0}, \"margin\": {\"t\": 60}, \"template\": {\"data\": {\"bar\": [{\"error_x\": {\"color\": \"#2a3f5f\"}, \"error_y\": {\"color\": \"#2a3f5f\"}, \"marker\": {\"line\": {\"color\": \"#E5ECF6\", \"width\": 0.5}}, \"type\": \"bar\"}], \"barpolar\": [{\"marker\": {\"line\": {\"color\": \"#E5ECF6\", \"width\": 0.5}}, \"type\": \"barpolar\"}], \"carpet\": [{\"aaxis\": {\"endlinecolor\": \"#2a3f5f\", \"gridcolor\": \"white\", \"linecolor\": \"white\", \"minorgridcolor\": \"white\", \"startlinecolor\": \"#2a3f5f\"}, \"baxis\": {\"endlinecolor\": \"#2a3f5f\", \"gridcolor\": \"white\", \"linecolor\": \"white\", \"minorgridcolor\": \"white\", \"startlinecolor\": \"#2a3f5f\"}, \"type\": \"carpet\"}], \"choropleth\": [{\"colorbar\": {\"outlinewidth\": 0, \"ticks\": \"\"}, \"type\": \"choropleth\"}], \"contour\": [{\"colorbar\": {\"outlinewidth\": 0, \"ticks\": \"\"}, \"colorscale\": [[0.0, \"#0d0887\"], [0.1111111111111111, \"#46039f\"], [0.2222222222222222, \"#7201a8\"], [0.3333333333333333, \"#9c179e\"], [0.4444444444444444, \"#bd3786\"], [0.5555555555555556, \"#d8576b\"], [0.6666666666666666, \"#ed7953\"], [0.7777777777777778, \"#fb9f3a\"], [0.8888888888888888, \"#fdca26\"], [1.0, \"#f0f921\"]], \"type\": \"contour\"}], \"contourcarpet\": [{\"colorbar\": {\"outlinewidth\": 0, \"ticks\": \"\"}, \"type\": \"contourcarpet\"}], \"heatmap\": [{\"colorbar\": {\"outlinewidth\": 0, \"ticks\": \"\"}, \"colorscale\": [[0.0, \"#0d0887\"], [0.1111111111111111, \"#46039f\"], [0.2222222222222222, \"#7201a8\"], [0.3333333333333333, \"#9c179e\"], [0.4444444444444444, \"#bd3786\"], [0.5555555555555556, \"#d8576b\"], [0.6666666666666666, \"#ed7953\"], [0.7777777777777778, \"#fb9f3a\"], [0.8888888888888888, \"#fdca26\"], [1.0, \"#f0f921\"]], \"type\": \"heatmap\"}], \"heatmapgl\": [{\"colorbar\": {\"outlinewidth\": 0, \"ticks\": \"\"}, \"colorscale\": [[0.0, \"#0d0887\"], [0.1111111111111111, \"#46039f\"], [0.2222222222222222, \"#7201a8\"], [0.3333333333333333, \"#9c179e\"], [0.4444444444444444, \"#bd3786\"], [0.5555555555555556, \"#d8576b\"], [0.6666666666666666, \"#ed7953\"], [0.7777777777777778, \"#fb9f3a\"], [0.8888888888888888, \"#fdca26\"], [1.0, \"#f0f921\"]], \"type\": \"heatmapgl\"}], \"histogram\": [{\"marker\": {\"colorbar\": {\"outlinewidth\": 0, \"ticks\": \"\"}}, \"type\": \"histogram\"}], \"histogram2d\": [{\"colorbar\": {\"outlinewidth\": 0, \"ticks\": \"\"}, \"colorscale\": [[0.0, \"#0d0887\"], [0.1111111111111111, \"#46039f\"], [0.2222222222222222, \"#7201a8\"], [0.3333333333333333, \"#9c179e\"], [0.4444444444444444, \"#bd3786\"], [0.5555555555555556, \"#d8576b\"], [0.6666666666666666, \"#ed7953\"], [0.7777777777777778, \"#fb9f3a\"], [0.8888888888888888, \"#fdca26\"], [1.0, \"#f0f921\"]], \"type\": \"histogram2d\"}], \"histogram2dcontour\": [{\"colorbar\": {\"outlinewidth\": 0, \"ticks\": \"\"}, \"colorscale\": [[0.0, \"#0d0887\"], [0.1111111111111111, \"#46039f\"], [0.2222222222222222, \"#7201a8\"], [0.3333333333333333, \"#9c179e\"], [0.4444444444444444, \"#bd3786\"], [0.5555555555555556, \"#d8576b\"], [0.6666666666666666, \"#ed7953\"], [0.7777777777777778, \"#fb9f3a\"], [0.8888888888888888, \"#fdca26\"], [1.0, \"#f0f921\"]], \"type\": \"histogram2dcontour\"}], \"mesh3d\": [{\"colorbar\": {\"outlinewidth\": 0, \"ticks\": \"\"}, \"type\": \"mesh3d\"}], \"parcoords\": [{\"line\": {\"colorbar\": {\"outlinewidth\": 0, \"ticks\": \"\"}}, \"type\": \"parcoords\"}], \"pie\": [{\"automargin\": true, \"type\": \"pie\"}], \"scatter\": [{\"marker\": {\"colorbar\": {\"outlinewidth\": 0, \"ticks\": \"\"}}, \"type\": \"scatter\"}], \"scatter3d\": [{\"line\": {\"colorbar\": {\"outlinewidth\": 0, \"ticks\": \"\"}}, \"marker\": {\"colorbar\": {\"outlinewidth\": 0, \"ticks\": \"\"}}, \"type\": \"scatter3d\"}], \"scattercarpet\": [{\"marker\": {\"colorbar\": {\"outlinewidth\": 0, \"ticks\": \"\"}}, \"type\": \"scattercarpet\"}], \"scattergeo\": [{\"marker\": {\"colorbar\": {\"outlinewidth\": 0, \"ticks\": \"\"}}, \"type\": \"scattergeo\"}], \"scattergl\": [{\"marker\": {\"colorbar\": {\"outlinewidth\": 0, \"ticks\": \"\"}}, \"type\": \"scattergl\"}], \"scattermapbox\": [{\"marker\": {\"colorbar\": {\"outlinewidth\": 0, \"ticks\": \"\"}}, \"type\": \"scattermapbox\"}], \"scatterpolar\": [{\"marker\": {\"colorbar\": {\"outlinewidth\": 0, \"ticks\": \"\"}}, \"type\": \"scatterpolar\"}], \"scatterpolargl\": [{\"marker\": {\"colorbar\": {\"outlinewidth\": 0, \"ticks\": \"\"}}, \"type\": \"scatterpolargl\"}], \"scatterternary\": [{\"marker\": {\"colorbar\": {\"outlinewidth\": 0, \"ticks\": \"\"}}, \"type\": \"scatterternary\"}], \"surface\": [{\"colorbar\": {\"outlinewidth\": 0, \"ticks\": \"\"}, \"colorscale\": [[0.0, \"#0d0887\"], [0.1111111111111111, \"#46039f\"], [0.2222222222222222, \"#7201a8\"], [0.3333333333333333, \"#9c179e\"], [0.4444444444444444, \"#bd3786\"], [0.5555555555555556, \"#d8576b\"], [0.6666666666666666, \"#ed7953\"], [0.7777777777777778, \"#fb9f3a\"], [0.8888888888888888, \"#fdca26\"], [1.0, \"#f0f921\"]], \"type\": \"surface\"}], \"table\": [{\"cells\": {\"fill\": {\"color\": \"#EBF0F8\"}, \"line\": {\"color\": \"white\"}}, \"header\": {\"fill\": {\"color\": \"#C8D4E3\"}, \"line\": {\"color\": \"white\"}}, \"type\": \"table\"}]}, \"layout\": {\"annotationdefaults\": {\"arrowcolor\": \"#2a3f5f\", \"arrowhead\": 0, \"arrowwidth\": 1}, \"coloraxis\": {\"colorbar\": {\"outlinewidth\": 0, \"ticks\": \"\"}}, \"colorscale\": {\"diverging\": [[0, \"#8e0152\"], [0.1, \"#c51b7d\"], [0.2, \"#de77ae\"], [0.3, \"#f1b6da\"], [0.4, \"#fde0ef\"], [0.5, \"#f7f7f7\"], [0.6, \"#e6f5d0\"], [0.7, \"#b8e186\"], [0.8, \"#7fbc41\"], [0.9, \"#4d9221\"], [1, \"#276419\"]], \"sequential\": [[0.0, \"#0d0887\"], [0.1111111111111111, \"#46039f\"], [0.2222222222222222, \"#7201a8\"], [0.3333333333333333, \"#9c179e\"], [0.4444444444444444, \"#bd3786\"], [0.5555555555555556, \"#d8576b\"], [0.6666666666666666, \"#ed7953\"], [0.7777777777777778, \"#fb9f3a\"], [0.8888888888888888, \"#fdca26\"], [1.0, \"#f0f921\"]], \"sequentialminus\": [[0.0, \"#0d0887\"], [0.1111111111111111, \"#46039f\"], [0.2222222222222222, \"#7201a8\"], [0.3333333333333333, \"#9c179e\"], [0.4444444444444444, \"#bd3786\"], [0.5555555555555556, \"#d8576b\"], [0.6666666666666666, \"#ed7953\"], [0.7777777777777778, \"#fb9f3a\"], [0.8888888888888888, \"#fdca26\"], [1.0, \"#f0f921\"]]}, \"colorway\": [\"#636efa\", \"#EF553B\", \"#00cc96\", \"#ab63fa\", \"#FFA15A\", \"#19d3f3\", \"#FF6692\", \"#B6E880\", \"#FF97FF\", \"#FECB52\"], \"font\": {\"color\": \"#2a3f5f\"}, \"geo\": {\"bgcolor\": \"white\", \"lakecolor\": \"white\", \"landcolor\": \"#E5ECF6\", \"showlakes\": true, \"showland\": true, \"subunitcolor\": \"white\"}, \"hoverlabel\": {\"align\": \"left\"}, \"hovermode\": \"closest\", \"mapbox\": {\"style\": \"light\"}, \"paper_bgcolor\": \"white\", \"plot_bgcolor\": \"#E5ECF6\", \"polar\": {\"angularaxis\": {\"gridcolor\": \"white\", \"linecolor\": \"white\", \"ticks\": \"\"}, \"bgcolor\": \"#E5ECF6\", \"radialaxis\": {\"gridcolor\": \"white\", \"linecolor\": \"white\", \"ticks\": \"\"}}, \"scene\": {\"xaxis\": {\"backgroundcolor\": \"#E5ECF6\", \"gridcolor\": \"white\", \"gridwidth\": 2, \"linecolor\": \"white\", \"showbackground\": true, \"ticks\": \"\", \"zerolinecolor\": \"white\"}, \"yaxis\": {\"backgroundcolor\": \"#E5ECF6\", \"gridcolor\": \"white\", \"gridwidth\": 2, \"linecolor\": \"white\", \"showbackground\": true, \"ticks\": \"\", \"zerolinecolor\": \"white\"}, \"zaxis\": {\"backgroundcolor\": \"#E5ECF6\", \"gridcolor\": \"white\", \"gridwidth\": 2, \"linecolor\": \"white\", \"showbackground\": true, \"ticks\": \"\", \"zerolinecolor\": \"white\"}}, \"shapedefaults\": {\"line\": {\"color\": \"#2a3f5f\"}}, \"ternary\": {\"aaxis\": {\"gridcolor\": \"white\", \"linecolor\": \"white\", \"ticks\": \"\"}, \"baxis\": {\"gridcolor\": \"white\", \"linecolor\": \"white\", \"ticks\": \"\"}, \"bgcolor\": \"#E5ECF6\", \"caxis\": {\"gridcolor\": \"white\", \"linecolor\": \"white\", \"ticks\": \"\"}}, \"title\": {\"x\": 0.05}, \"xaxis\": {\"automargin\": true, \"gridcolor\": \"white\", \"linecolor\": \"white\", \"ticks\": \"\", \"title\": {\"standoff\": 15}, \"zerolinecolor\": \"white\", \"zerolinewidth\": 2}, \"yaxis\": {\"automargin\": true, \"gridcolor\": \"white\", \"linecolor\": \"white\", \"ticks\": \"\", \"title\": {\"standoff\": 15}, \"zerolinecolor\": \"white\", \"zerolinewidth\": 2}}}, \"xaxis\": {\"anchor\": \"y\", \"domain\": [0.0, 1.0], \"title\": {\"text\": \"count\"}}, \"yaxis\": {\"anchor\": \"x\", \"categoryorder\": \"total ascending\", \"domain\": [0.0, 1.0], \"title\": {\"text\": \"Countries\"}}},\n",
       "                        {\"responsive\": true}\n",
       "                    ).then(function(){\n",
       "                            \n",
       "var gd = document.getElementById('266509e7-0aab-45b0-9e59-78882e323323');\n",
       "var x = new MutationObserver(function (mutations, observer) {{\n",
       "        var display = window.getComputedStyle(gd).display;\n",
       "        if (!display || display === 'none') {{\n",
       "            console.log([gd, 'removed!']);\n",
       "            Plotly.purge(gd);\n",
       "            observer.disconnect();\n",
       "        }}\n",
       "}});\n",
       "\n",
       "// Listen for the removal of the full notebook cells\n",
       "var notebookContainer = gd.closest('#notebook-container');\n",
       "if (notebookContainer) {{\n",
       "    x.observe(notebookContainer, {childList: true});\n",
       "}}\n",
       "\n",
       "// Listen for the clearing of the current output cell\n",
       "var outputEl = gd.closest('.output');\n",
       "if (outputEl) {{\n",
       "    x.observe(outputEl, {childList: true});\n",
       "}}\n",
       "\n",
       "                        })\n",
       "                };\n",
       "                });\n",
       "            </script>\n",
       "        </div>"
      ]
     },
     "metadata": {},
     "output_type": "display_data"
    }
   ],
   "source": [
    "fig = px.bar(df, x='count', y='Countries')\n",
    "fig.update_layout(barmode='stack', yaxis={'categoryorder':'total ascending'})\n",
    "fig.show()"
   ]
  },
  {
   "cell_type": "code",
   "execution_count": null,
   "metadata": {},
   "outputs": [],
   "source": []
  }
 ],
 "metadata": {
  "kernelspec": {
   "display_name": "Python 3",
   "language": "python",
   "name": "python3"
  },
  "language_info": {
   "codemirror_mode": {
    "name": "ipython",
    "version": 3
   },
   "file_extension": ".py",
   "mimetype": "text/x-python",
   "name": "python",
   "nbconvert_exporter": "python",
   "pygments_lexer": "ipython3",
   "version": "3.8.1"
  },
  "toc": {
   "base_numbering": 1,
   "nav_menu": {},
   "number_sections": true,
   "sideBar": true,
   "skip_h1_title": false,
   "title_cell": "Table of Contents",
   "title_sidebar": "Contents",
   "toc_cell": false,
   "toc_position": {},
   "toc_section_display": true,
   "toc_window_display": false
  },
  "varInspector": {
   "cols": {
    "lenName": 16,
    "lenType": 16,
    "lenVar": 40
   },
   "kernels_config": {
    "python": {
     "delete_cmd_postfix": "",
     "delete_cmd_prefix": "del ",
     "library": "var_list.py",
     "varRefreshCmd": "print(var_dic_list())"
    },
    "r": {
     "delete_cmd_postfix": ") ",
     "delete_cmd_prefix": "rm(",
     "library": "var_list.r",
     "varRefreshCmd": "cat(var_dic_list()) "
    }
   },
   "types_to_exclude": [
    "module",
    "function",
    "builtin_function_or_method",
    "instance",
    "_Feature"
   ],
   "window_display": false
  }
 },
 "nbformat": 4,
 "nbformat_minor": 4
}
